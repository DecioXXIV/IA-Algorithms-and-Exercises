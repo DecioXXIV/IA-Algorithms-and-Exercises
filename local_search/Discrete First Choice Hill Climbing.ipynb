{
 "cells": [
  {
   "cell_type": "code",
   "execution_count": 1,
   "id": "16c86bd2",
   "metadata": {},
   "outputs": [],
   "source": [
    "import random\n",
    "import string"
   ]
  },
  {
   "cell_type": "markdown",
   "id": "02393f05",
   "metadata": {},
   "source": [
    "# PROBLEM DESCRIPTION\n",
    "\n",
    "Given a target string with len(target_string) == n, we start from a random string with len(starting_string) == n.\n",
    "We want to transform the \"starting_string\" into the \"target_string\" by iterating and modifying only one character at a time in the \"starting_string\"."
   ]
  },
  {
   "cell_type": "code",
   "execution_count": 2,
   "id": "bf026922",
   "metadata": {},
   "outputs": [],
   "source": [
    "def generate_starting_string(length):\n",
    "    return [random.choice(string.printable) for _ in range(length)]"
   ]
  },
  {
   "cell_type": "code",
   "execution_count": 3,
   "id": "866b0c00",
   "metadata": {},
   "outputs": [],
   "source": [
    "def eval_function(current, target):\n",
    "    total_diff = 0\n",
    "\n",
    "# STRING EVALUTATION: for each pair or corresponding characters we calculate their distance from each other.\n",
    "# The distance between \"current_string\" and \"target_string\" will be the sum of the individual distances\n",
    "# calculated for all the pairs of corresponding characters.\n",
    "    for i in range(len(target)):\n",
    "        c = current[i]\n",
    "        t = target[i]\n",
    "\n",
    "        diff = abs(ord(c) - ord(t))\n",
    "        total_diff += diff\n",
    "    \n",
    "    return total_diff"
   ]
  },
  {
   "cell_type": "code",
   "execution_count": 4,
   "id": "e3939d3e",
   "metadata": {},
   "outputs": [],
   "source": [
    "def tweak(current):\n",
    "# STRING TWEAKING: we choose a random charachter in the \"current_string\" and replace it \n",
    "# with a character randomely chosen from the \"string.printable\" set.\n",
    "    index = random.randint(0, len(current)-1)\n",
    "    current[index] = random.choice(string.printable)"
   ]
  },
  {
   "cell_type": "code",
   "execution_count": 5,
   "id": "b7d301c4",
   "metadata": {},
   "outputs": [
    {
     "data": {
      "text/plain": [
       "'0123456789abcdefghijklmnopqrstuvwxyzABCDEFGHIJKLMNOPQRSTUVWXYZ!\"#$%&\\'()*+,-./:;<=>?@[\\\\]^_`{|}~ \\t\\n\\r\\x0b\\x0c'"
      ]
     },
     "execution_count": 5,
     "metadata": {},
     "output_type": "execute_result"
    }
   ],
   "source": [
    "# Info Section\n",
    "string.printable"
   ]
  },
  {
   "cell_type": "markdown",
   "id": "4e5d8aee",
   "metadata": {},
   "source": [
    "## PRINCIPAL FUNCTION: First Choice Hill Climbing"
   ]
  },
  {
   "cell_type": "code",
   "execution_count": 6,
   "id": "405143e8",
   "metadata": {},
   "outputs": [],
   "source": [
    "def first_choice_hill_climbing(starting_string, target_string):\n",
    "# We exploit the \"First-Choice Hill Climbing\" Algorithm: given the current state, we choose one random neighbor \n",
    "# which gets accepted only if its valutation results to be better than the current state's.\n",
    "    print(\"*** ************************** ***\")\n",
    "    print(\"*** FIRST-CHOICE HILL CLIMBING ***\")\n",
    "    print(\"*** ************************** ***\\n\")\n",
    "    current_state = starting_string\n",
    "    current_eval = eval_function(current_state, target_string)\n",
    "    iteration = 1\n",
    "\n",
    "    print(\"Starting Score: %d\" % current_eval)\n",
    "    print(\"Starting String:\", \"\".join(current_state), \"\\n\")\n",
    "\n",
    "    while True:\n",
    "    \n",
    "        if current_eval == 0:\n",
    "            break\n",
    "\n",
    "        next_state = list(current_state)\n",
    "        tweak(next_state)\n",
    "        next_state_eval = eval_function(next_state, target_string)\n",
    "\n",
    "        if next_state_eval < current_eval:\n",
    "            current_state = next_state\n",
    "            current_eval = next_state_eval\n",
    "\n",
    "# VISUALIZATION EFFICIENCY: \"current_eval\" and \"current_state\" are printed only if the Algorithm actually \n",
    "# moves to a next state which is better than the actual state.\n",
    "            print(\"Improvement found at Iteration %d!\" % iteration)\n",
    "            print(\"Current Score: %d\" % current_eval)\n",
    "            print(\"Current String:\", \"\".join(current_state), \"\\n\")\n",
    "\n",
    "        iteration += 1\n",
    "    \n",
    "    print(\"*** END OF THE SEARCH ***\")\n",
    "    print(\"Iterations =\", iteration, \", Starting String =\", \"\".join(starting_string), \", Final String =\", \"\".join(current_state))"
   ]
  },
  {
   "cell_type": "markdown",
   "id": "449dc150",
   "metadata": {},
   "source": [
    "# CODE'S TEST SECTION"
   ]
  },
  {
   "cell_type": "code",
   "execution_count": 7,
   "id": "15b2cfe2",
   "metadata": {},
   "outputs": [],
   "source": [
    "target_string = \"DecioXXIV\"\n",
    "starting_string = generate_starting_string(len(target_string))"
   ]
  },
  {
   "cell_type": "code",
   "execution_count": 8,
   "id": "bf544ad5",
   "metadata": {
    "scrolled": true
   },
   "outputs": [
    {
     "name": "stdout",
     "output_type": "stream",
     "text": [
      "*** ************************** ***\n",
      "*** FIRST-CHOICE HILL CLIMBING ***\n",
      "*** ************************** ***\n",
      "\n",
      "Starting Score: 297\n",
      "Starting String: q40dh,|nm \n",
      "\n",
      "Improvement found at Iteration 2!\n",
      "Current Score: 280\n",
      "Current String: q40dh,|n\\ \n",
      "\n",
      "Improvement found at Iteration 4!\n",
      "Current Score: 263\n",
      "Current String: `40dh,|n\\ \n",
      "\n",
      "Improvement found at Iteration 5!\n",
      "Current Score: 260\n",
      "Current String: `40dh,7n\\ \n",
      "\n",
      "Improvement found at Iteration 6!\n",
      "Current Score: 240\n",
      "Current String: L40dh,7n\\ \n",
      "\n",
      "Improvement found at Iteration 8!\n",
      "Current Score: 205\n",
      "Current String: L4Sdh,7n\\ \n",
      "\n",
      "Improvement found at Iteration 9!\n",
      "Current Score: 179\n",
      "Current String: L4SdhF7n\\ \n",
      "\n",
      "Improvement found at Iteration 13!\n",
      "Current Score: 166\n",
      "Current String: L4SdhFDn\\ \n",
      "\n",
      "Improvement found at Iteration 23!\n",
      "Current Score: 133\n",
      "Current String: LuSdhFDn\\ \n",
      "\n",
      "Improvement found at Iteration 27!\n",
      "Current Score: 129\n",
      "Current String: LuSdhFD(\\ \n",
      "\n",
      "Improvement found at Iteration 31!\n",
      "Current Score: 117\n",
      "Current String: LuSdhRD(\\ \n",
      "\n",
      "Improvement found at Iteration 33!\n",
      "Current Score: 109\n",
      "Current String: LuSdhRD0\\ \n",
      "\n",
      "Improvement found at Iteration 36!\n",
      "Current Score: 101\n",
      "Current String: Lu[dhRD0\\ \n",
      "\n",
      "Improvement found at Iteration 50!\n",
      "Current Score: 90\n",
      "Current String: Lu[dhRa0\\ \n",
      "\n",
      "Improvement found at Iteration 63!\n",
      "Current Score: 82\n",
      "Current String: Lu[dhRa8\\ \n",
      "\n",
      "Improvement found at Iteration 67!\n",
      "Current Score: 78\n",
      "Current String: Lu[dhR]8\\ \n",
      "\n",
      "Improvement found at Iteration 73!\n",
      "Current Score: 69\n",
      "Current String: Lu[dhR]Q\\ \n",
      "\n",
      "Improvement found at Iteration 75!\n",
      "Current Score: 54\n",
      "Current String: Ld[dhR]Q\\ \n",
      "\n",
      "Improvement found at Iteration 80!\n",
      "Current Score: 50\n",
      "Current String: Ld[dhR]QX \n",
      "\n",
      "Improvement found at Iteration 88!\n",
      "Current Score: 47\n",
      "Current String: Ld[khR]QX \n",
      "\n",
      "Improvement found at Iteration 100!\n",
      "Current Score: 46\n",
      "Current String: Ld[kuR]QX \n",
      "\n",
      "Improvement found at Iteration 103!\n",
      "Current Score: 44\n",
      "Current String: >d[kuR]QX \n",
      "\n",
      "Improvement found at Iteration 118!\n",
      "Current Score: 43\n",
      "Current String: >d[kuR]PX \n",
      "\n",
      "Improvement found at Iteration 132!\n",
      "Current Score: 40\n",
      "Current String: >d[kuRZPX \n",
      "\n",
      "Improvement found at Iteration 133!\n",
      "Current Score: 35\n",
      "Current String: >d`kuRZPX \n",
      "\n",
      "Improvement found at Iteration 144!\n",
      "Current Score: 34\n",
      "Current String: >d`kuRZPW \n",
      "\n",
      "Improvement found at Iteration 256!\n",
      "Current Score: 28\n",
      "Current String: >d`kuRZHW \n",
      "\n",
      "Improvement found at Iteration 299!\n",
      "Current Score: 25\n",
      "Current String: Ad`kuRZHW \n",
      "\n",
      "Improvement found at Iteration 316!\n",
      "Current Score: 19\n",
      "Current String: Ad`kuXZHW \n",
      "\n",
      "Improvement found at Iteration 334!\n",
      "Current Score: 18\n",
      "Current String: AdekuXZHW \n",
      "\n",
      "Improvement found at Iteration 346!\n",
      "Current Score: 14\n",
      "Current String: AdekqXZHW \n",
      "\n",
      "Improvement found at Iteration 361!\n",
      "Current Score: 13\n",
      "Current String: AdehqXZHW \n",
      "\n",
      "Improvement found at Iteration 457!\n",
      "Current Score: 11\n",
      "Current String: EdehqXZHW \n",
      "\n",
      "Improvement found at Iteration 552!\n",
      "Current Score: 10\n",
      "Current String: DdehqXZHW \n",
      "\n",
      "Improvement found at Iteration 572!\n",
      "Current Score: 8\n",
      "Current String: DdehoXZHW \n",
      "\n",
      "Improvement found at Iteration 628!\n",
      "Current Score: 7\n",
      "Current String: DddhoXZHW \n",
      "\n",
      "Improvement found at Iteration 688!\n",
      "Current Score: 6\n",
      "Current String: DddhoXZHV \n",
      "\n",
      "Improvement found at Iteration 792!\n",
      "Current Score: 4\n",
      "Current String: DddhoXXHV \n",
      "\n",
      "Improvement found at Iteration 928!\n",
      "Current Score: 3\n",
      "Current String: DddhoXXIV \n",
      "\n",
      "Improvement found at Iteration 948!\n",
      "Current Score: 2\n",
      "Current String: DddioXXIV \n",
      "\n",
      "Improvement found at Iteration 1022!\n",
      "Current Score: 1\n",
      "Current String: DedioXXIV \n",
      "\n",
      "Improvement found at Iteration 1970!\n",
      "Current Score: 0\n",
      "Current String: DecioXXIV \n",
      "\n",
      "*** END OF THE SEARCH ***\n",
      "Iterations = 1971 , Starting String = q40dh,|nm , Final String = DecioXXIV\n"
     ]
    }
   ],
   "source": [
    "first_choice_hill_climbing(starting_string, target_string)"
   ]
  }
 ],
 "metadata": {
  "kernelspec": {
   "display_name": "Python 3 (ipykernel)",
   "language": "python",
   "name": "python3"
  },
  "language_info": {
   "codemirror_mode": {
    "name": "ipython",
    "version": 3
   },
   "file_extension": ".py",
   "mimetype": "text/x-python",
   "name": "python",
   "nbconvert_exporter": "python",
   "pygments_lexer": "ipython3",
   "version": "3.9.12"
  },
  "vscode": {
   "interpreter": {
    "hash": "af8ad262f38d234f1721f51c7f7024b47ecdab1d8baf0f3d3192ffe692f340e1"
   }
  }
 },
 "nbformat": 4,
 "nbformat_minor": 5
}
