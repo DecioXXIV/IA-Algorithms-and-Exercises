{
 "cells": [
  {
   "cell_type": "code",
   "execution_count": 1,
   "id": "51503e07",
   "metadata": {},
   "outputs": [],
   "source": [
    "import math\n",
    "import random\n",
    "import numpy as np"
   ]
  },
  {
   "cell_type": "markdown",
   "id": "bd764619",
   "metadata": {},
   "source": [
    "# Problem Description\n",
    "\n",
    "nQueens Problem: we got a Chessboard (\"N\" rows and \"N\" columns) and we want to place \"N\" Queens on it in order to have none of them putting the others in check.\n",
    "We decide to exploit the \"Tabu Search\" Algorithm."
   ]
  },
  {
   "cell_type": "markdown",
   "id": "153d5816",
   "metadata": {},
   "source": [
    "## State Definition\n",
    "\n",
    "To simplify the state definition and the problem itself, we decide to place only one Queen for each column of the board.\n",
    "In this way we can easily represent the board with a vector of dimension \"N\": each index stands for a column index and each value stands for a row index.\n",
    "For example, if we have: vector[2] = 5, it means that we have a Queen on the (5,2) cell."
   ]
  },
  {
   "cell_type": "code",
   "execution_count": 2,
   "id": "f2caee85",
   "metadata": {},
   "outputs": [],
   "source": [
    "def tweak(solution):\n",
    "    solution_copy = np.copy(solution)\n",
    "# We randomely choose two separate column indexes\n",
    "    x = random.randint(0, N-1)\n",
    "    y = random.randint(0, N-1)\n",
    "    while x == y:\n",
    "        y = random.randint(0, N-1)\n",
    "    \n",
    "# Column Swap\n",
    "    temp = solution_copy[y]\n",
    "    solution_copy[y] = solution_copy[x]\n",
    "    solution_copy[x] = temp\n",
    "\n",
    "    return solution_copy"
   ]
  },
  {
   "cell_type": "code",
   "execution_count": 3,
   "id": "70709794",
   "metadata": {},
   "outputs": [],
   "source": [
    "def get_starting_state(solution):\n",
    "    for c in range(0, N):\n",
    "        solution = tweak(solution)\n",
    "    return solution"
   ]
  },
  {
   "cell_type": "markdown",
   "id": "272d5d48",
   "metadata": {},
   "source": [
    "## Neighborhood Definition\n",
    "\n",
    "Each state has his own neighborhood, obtained imposing the \"swap\" between two columns of the board.\n",
    "If we have \"N\" columns, the neighborhood's cardinality is equal to: N(N-1)/2.\n"
   ]
  },
  {
   "cell_type": "code",
   "execution_count": 4,
   "id": "b51c6016",
   "metadata": {},
   "outputs": [],
   "source": [
    "def generate_neighbors(state):\n",
    "    neighbors_list = list()\n",
    "    t = len(state)\n",
    "\n",
    "    for i in range(0, t-1):\n",
    "        for j in range(i+1, t):\n",
    "# Observation, double \"for\":\n",
    "    # i = 0 -> j = [1, ..., t-1]\n",
    "    # i = 1 -> j = [2, ..., t-1]\n",
    "    # ...\n",
    "            buffer = np.copy(state)\n",
    "            temp = buffer[i]\n",
    "            buffer[i] = buffer[j]\n",
    "            buffer[j] = temp\n",
    "            neighbor_eval = eval_function(buffer)\n",
    "            neighbors_list.append((buffer, neighbor_eval, (state[i], state[j])))\n",
    "# Observation, a \"neighbors_list\" item:\n",
    "    # - item[0] = neighbor_state\n",
    "    # - item[1] = neighbor_eval\n",
    "    # - item[2][0] = first column in the swap\n",
    "    # - item[2][1] = second column in the swap\n",
    "\n",
    "# The \"neighbors_list\" gets ordered by Decreasing \"neighbor_eval\" -> the first item has the best evaluation.\n",
    "    neighbors_list.sort(key=lambda x: x[1])\n",
    "    return neighbors_list"
   ]
  },
  {
   "cell_type": "markdown",
   "id": "76a2b584",
   "metadata": {},
   "source": [
    "## Evaluation Function\n",
    "\n",
    "Each state is evaluated in terms fo the number of conflicts between the queens: we want to reach \"0\" for this value."
   ]
  },
  {
   "cell_type": "code",
   "execution_count": 5,
   "id": "863d8041",
   "metadata": {},
   "outputs": [],
   "source": [
    "def eval_function(state):\n",
    "# Chessboard Definition\n",
    "    board = [[0] * N for i in range(N)]\n",
    "# Placing the Queens on the Chessboard\n",
    "    for i in range(0, N):\n",
    "        board[state[i]][i] = 'Q'\n",
    "\n",
    "# Possible Moves on the Chessboard: having one Queen on each column/row, we need to count only the conflicts on the diagonals\n",
    "    dx = [1,1,-1,-1]\n",
    "    dy = [1,-1,1,-1]\n",
    "# Observations:\n",
    "    # - dx == 1, dy == 1: \"Bottom-Right\" move\n",
    "    # - dx == 1, dy == -1: \"Bottom-Left\" move\n",
    "    # - dx == -1, dy == 1: \"Top-Right\" move\n",
    "    # - dx == -1, dy == -1: \"Top-Left\" move\n",
    "\n",
    "    conflicts = 0\n",
    "\n",
    "    for i in range(0, N):\n",
    "        x = state[i]\n",
    "        y = i\n",
    "\n",
    "# Conflicts Count\n",
    "        for j in range(0,4):\n",
    "            temp_x = x\n",
    "            temp_y = y\n",
    "            while True:\n",
    "                temp_x += dx[j]\n",
    "                temp_y += dy[j]\n",
    "\n",
    "                if (temp_x < 0 or temp_x >= N) or (temp_y < 0 or temp_y >= N):\n",
    "                    break\n",
    "\n",
    "                if board[temp_x][temp_y] == 'Q':\n",
    "                    conflicts += 1\n",
    "    \n",
    "    return conflicts"
   ]
  },
  {
   "cell_type": "markdown",
   "id": "6e560019",
   "metadata": {},
   "source": [
    "# Tabu Search Algorithm"
   ]
  },
  {
   "cell_type": "code",
   "execution_count": 6,
   "id": "a5595516",
   "metadata": {},
   "outputs": [],
   "source": [
    "def print_chessboard(state):\n",
    "# Chessboard Definition\n",
    "    board = [[0] * N for i in range(N)]\n",
    "# Placing the Queens on the Chessboard\n",
    "    for i in range(0, N):\n",
    "        board[state[i]][i] = 'Q'\n",
    "\n",
    "    for x in range(0, N):\n",
    "        for y in range(0, N):\n",
    "            if board[x][y] == 'Q':\n",
    "                print(\"Q    \", end=\"\")\n",
    "            else:\n",
    "                print(\".    \", end=\"\")\n",
    "        print(\"\\n\")"
   ]
  },
  {
   "cell_type": "code",
   "execution_count": 7,
   "id": "1cee039c",
   "metadata": {},
   "outputs": [],
   "source": [
    "def tabu_test(move, tabu_list):\n",
    "    a, b = move[2]\n",
    "    if ((a,b) in tabu_list or (b,a) in tabu_list):\n",
    "        return True\n",
    "    else:\n",
    "        return False"
   ]
  },
  {
   "cell_type": "code",
   "execution_count": 8,
   "id": "5a484673",
   "metadata": {},
   "outputs": [],
   "source": [
    "def tabu_search(tabu_tenure):\n",
    "    print(\"*** ***************** ***\")\n",
    "    print(\"*** %d QUEENS PROBLEM ***\" % N)\n",
    "    print(\"*** ***************** ***\\n\")\n",
    "\n",
    "# Initial State\n",
    "    current = get_starting_state(range(0, N))\n",
    "    current_eval = eval_function(current)\n",
    "\n",
    "# \"Best\" Initialization\n",
    "    best = current\n",
    "    best_eval = current_eval\n",
    "\n",
    "    tabu_list = dict()\n",
    "\n",
    "    print(\"STARTING STATE: Conflicts = %d\" % best_eval)\n",
    "    print_chessboard(best)\n",
    "\n",
    "    iterations = 1\n",
    "\n",
    "    while(iterations < MAX_ITERATIONS and best_eval > 0):\n",
    "        print(\"ITERATION: %d\" % iterations)\n",
    "        print(\"Actual Best Evaluation: %d\" % best_eval)\n",
    "\n",
    "        neighbors_list_full = generate_neighbors(current)\n",
    "        neighbors_list = list()\n",
    "        \n",
    "        for neighbor in neighbors_list_full:\n",
    "            is_tabu = tabu_test(neighbor, tabu_list)\n",
    "            if is_tabu == False:\n",
    "                neighbors_list.append(neighbor)\n",
    "\n",
    "        #for idx in range(0,len(neighbors_list)):\n",
    "            #neighbor = neighbors_list[idx]\n",
    "            #is_tabu = tabu_test(neighbor, tabu_list)\n",
    "            #if is_tabu:\n",
    "                #neighbors_list.pop(idx)\n",
    "\n",
    "# Observation, a \"neighbors_list\" item:\n",
    "    # - item[0] = neighbor_state\n",
    "    # - item[1] = neighbor_eval\n",
    "    # - item[2][0] = first column in the swap\n",
    "    # - item[2][1] = second column in the swap\n",
    "\n",
    "        next = neighbors_list[0][0]\n",
    "        next_eval = eval_function(next)\n",
    "\n",
    "        delta_eval = best_eval - next_eval\n",
    "        if delta_eval > 0:\n",
    "            best = next\n",
    "            best_eval = next_eval\n",
    "        \n",
    "        current = next\n",
    "        current_eval = next_eval\n",
    "\n",
    "        for move in tabu_list:\n",
    "            tabu_list[move] -= 1\n",
    "            if tabu_list[move] == 0:\n",
    "                tabu_list.pop(move)\n",
    "        \n",
    "        next_move = neighbors_list[0][2]\n",
    "        tabu_list[next_move] = tabu_tenure\n",
    "\n",
    "        iterations += 1\n",
    "    \n",
    "    print(\"\\n*** SEARCH IS OVER! ***\")\n",
    "    print(\"*** FINAL STATE: Conflicts = %d\" % best_eval)\n",
    "    print_chessboard(best)"
   ]
  },
  {
   "cell_type": "markdown",
   "id": "08b667fe",
   "metadata": {},
   "source": [
    "# CODE'S TEST SECTION"
   ]
  },
  {
   "cell_type": "code",
   "execution_count": 9,
   "id": "be847f13",
   "metadata": {},
   "outputs": [],
   "source": [
    "# Parameters Settings\n",
    "N = 8 # \"Classic\" Chessboard\n",
    "MAX_ITERATIONS = 100\n",
    "TABU_TENURE = 5"
   ]
  },
  {
   "cell_type": "code",
   "execution_count": 10,
   "id": "66588369",
   "metadata": {},
   "outputs": [
    {
     "name": "stdout",
     "output_type": "stream",
     "text": [
      "*** ***************** ***\n",
      "*** 8 QUEENS PROBLEM ***\n",
      "*** ***************** ***\n",
      "\n",
      "STARTING STATE: Conflicts = 14\n",
      ".    Q    .    .    .    .    .    .    \n",
      "\n",
      ".    .    .    .    .    .    Q    .    \n",
      "\n",
      ".    .    .    Q    .    .    .    .    \n",
      "\n",
      ".    .    Q    .    .    .    .    .    \n",
      "\n",
      ".    .    .    .    .    .    .    Q    \n",
      "\n",
      ".    .    .    .    Q    .    .    .    \n",
      "\n",
      ".    .    .    .    .    Q    .    .    \n",
      "\n",
      "Q    .    .    .    .    .    .    .    \n",
      "\n",
      "ITERATION: 1\n",
      "Actual Best Evaluation: 14\n",
      "ITERATION: 2\n",
      "Actual Best Evaluation: 6\n",
      "ITERATION: 3\n",
      "Actual Best Evaluation: 2\n",
      "\n",
      "*** SEARCH IS OVER! ***\n",
      "*** FINAL STATE: Conflicts = 0\n",
      ".    .    .    .    .    .    Q    .    \n",
      "\n",
      ".    Q    .    .    .    .    .    .    \n",
      "\n",
      ".    .    .    Q    .    .    .    .    \n",
      "\n",
      "Q    .    .    .    .    .    .    .    \n",
      "\n",
      ".    .    .    .    .    .    .    Q    \n",
      "\n",
      ".    .    .    .    Q    .    .    .    \n",
      "\n",
      ".    .    Q    .    .    .    .    .    \n",
      "\n",
      ".    .    .    .    .    Q    .    .    \n",
      "\n"
     ]
    }
   ],
   "source": [
    "tabu_search(TABU_TENURE)"
   ]
  }
 ],
 "metadata": {
  "kernelspec": {
   "display_name": "Python 3 (ipykernel)",
   "language": "python",
   "name": "python3"
  },
  "language_info": {
   "codemirror_mode": {
    "name": "ipython",
    "version": 3
   },
   "file_extension": ".py",
   "mimetype": "text/x-python",
   "name": "python",
   "nbconvert_exporter": "python",
   "pygments_lexer": "ipython3",
   "version": "3.9.12"
  }
 },
 "nbformat": 4,
 "nbformat_minor": 5
}
