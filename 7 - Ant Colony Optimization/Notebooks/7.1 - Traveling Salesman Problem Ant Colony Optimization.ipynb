{
 "cells": [
  {
   "cell_type": "code",
   "execution_count": 1,
   "id": "00f39ff9",
   "metadata": {},
   "outputs": [],
   "source": [
    "import numpy as np\n",
    "import math"
   ]
  },
  {
   "cell_type": "markdown",
   "id": "a5fc2954",
   "metadata": {},
   "source": [
    "# Problem Description\n",
    "\n",
    "Traveling Salesman Problem: we got \"n\" cities and a Traveling Salesman, who has to visit each city only once and go back to the starting city.\n",
    "Every move between two cities implies a cost, and we want this cost to be the lowest possible.\n",
    "\n",
    "Each state is represented by a sequence of indexes (each index is related to a city), representing the cycle travelled by the salesman.\n",
    "\n",
    "Each state is then evaluated by a function that calculates the total cost \"payed\" by the Traveling Salesman: obviously, the goal is to minimize this cost."
   ]
  },
  {
   "cell_type": "markdown",
   "id": "3aa4e1b6",
   "metadata": {},
   "source": [
    "# Class \"Ant\"\n",
    "It models the Ants used to explore the Search State."
   ]
  },
  {
   "cell_type": "code",
   "execution_count": 2,
   "id": "2e6ff7cd",
   "metadata": {},
   "outputs": [],
   "source": [
    "class Ant:\n",
    "    def __init__(self, id, graph):\n",
    "        self.id = id\n",
    "        self.graph = graph\n",
    "        self.start_node = np.random.randint(low=0, high=len(graph))\n",
    "        self.path = [self.start_node]\n",
    "        self.path_cost = 0\n",
    "    \n",
    "    # METHOD: it builds the paths travelled by the Ant, also updating the variable \"path_cost\".\n",
    "    def gen_path(self, pheromone):\n",
    "        n_cities = len(self.graph)\n",
    "        prev = self.start_node\n",
    "\n",
    "        # The Ant travels until she visites all the cities in the Search Space.\n",
    "        while len(self.path) != n_cities:\n",
    "            # The New City is picked depending on the pheromone set in the previous iterations (by other Ants).\n",
    "            next = self.pick_next(pheromone[prev], self.graph[prev], self.path)\n",
    "            self.path.append(next)\n",
    "        \n",
    "        self.path_cost = eval_path(self.graph, self.path)\n",
    "\n",
    "        return self.path\n",
    "\n",
    "    # METHOD: it picks a new city to add to the Ant's Exploration Path.\n",
    "    def pick_next(self, pheromone, distances, path):\n",
    "        pheromone = np.copy(pheromone)\n",
    "        \n",
    "        # We want to exclude the already-visited-cities: we set their pheromone to 0.\n",
    "        for city in path:\n",
    "            pheromone[city] = 0\n",
    "\n",
    "        \n",
    "        row = pheromone ** alpha * ((1.0 / distances) ** beta)\n",
    "        norm_row = row / row.sum()\n",
    "        # The \"norm_row\" contains all the \"travel probabilities\" which affect the Ant's choice.\n",
    "            # Observation: norm_row.shape == (1, n_cities). The values related to the \"already-visited-cities\" are 0.\n",
    "\n",
    "\n",
    "        next = np.random.choice([i for i in range(0, n_cities)], 1, p=norm_row)[0]\n",
    "        # This step extracts an integer in [0, ..., n_cities-1] but basing on the \"norm_row\" probabilities.\n",
    "        \n",
    "        return next\n",
    "    \n",
    "    # METHOD: it spreads the pheromone. \n",
    "    def spread_pheromone(self, pheromone, all_paths):\n",
    "        n_cities = len(all_paths[0])\n",
    "        for path in all_paths:\n",
    "            for i in range(0, n_cities-1):\n",
    "                src = path[i]\n",
    "                dst = path[i+1]\n",
    "\n",
    "                # If the Ant chose a good arc (short), the spreaded pheromone will be higher.\n",
    "                # In this way it suggests to the \"future Ants\" a good way to travel.\n",
    "                pheromone[src][dst] += 1.0 / self.graph[src][dst]\n",
    "            \n",
    "            last = path[-1]\n",
    "            first = path[0]\n",
    "\n",
    "            pheromone[last][first] += 1.0 / self.graph[last][first]"
   ]
  },
  {
   "cell_type": "markdown",
   "id": "d9dbd0af",
   "metadata": {},
   "source": [
    "# Ant Colony Optimization"
   ]
  },
  {
   "cell_type": "markdown",
   "id": "cb1f5979",
   "metadata": {},
   "source": [
    "## Support Functions"
   ]
  },
  {
   "cell_type": "code",
   "execution_count": 3,
   "id": "9c7ac9c1",
   "metadata": {},
   "outputs": [],
   "source": [
    "# Creates a Random Search State and produces the Graph related to it.\n",
    "def create_search_state(n_cities):\n",
    "    city_coordinates = list()\n",
    "\n",
    "    for i in range(0, n_cities):\n",
    "        city = np.random.randint(low=-100, high=100, size=2).tolist()\n",
    "        # Each City is represented by a 2-values-vector: the first value is the \"x\" (interval = [-20,20]), the second is the \"y\" (interval = [-20,20]).\n",
    "        city_coordinates.append(city)\n",
    "    \n",
    "    graph_matrix = np.zeros((n_cities, n_cities), dtype=np.float32)\n",
    "    for i in range(0, n_cities):\n",
    "        graph_matrix[i][i] = np.inf\n",
    "\n",
    "    for i in range(0, n_cities-1):\n",
    "        for j in range(i+1, n_cities):\n",
    "            d = distance(city_coordinates[i], city_coordinates[j])\n",
    "            d = round(d, 3)\n",
    "            graph_matrix[i][j] = d\n",
    "            graph_matrix[j][i] = d\n",
    "    \n",
    "    return [city_coordinates, graph_matrix]"
   ]
  },
  {
   "cell_type": "code",
   "execution_count": 4,
   "id": "d9294450",
   "metadata": {},
   "outputs": [],
   "source": [
    "# Calculates and returns the distance between two cities of the Search State.\n",
    "def distance(city1, city2):\n",
    "    x1, y1 = city1\n",
    "    x2, y2 = city2\n",
    "\n",
    "    return math.sqrt((x2 - x1)**2 + (y2 - y1)**2)"
   ]
  },
  {
   "cell_type": "code",
   "execution_count": 5,
   "id": "16c19f0a",
   "metadata": {},
   "outputs": [],
   "source": [
    "# Evaluates a path in terms of the costs held moving through all the cities (first to last + last to first).\n",
    "def eval_path(graph, path):\n",
    "    total_cost = 0\n",
    "    n_cities = len(path)\n",
    "\n",
    "    for i in range(0, n_cities-1):\n",
    "        src = path[i]\n",
    "        dst = path[i+1]\n",
    "        total_cost += graph[src][dst]\n",
    "    \n",
    "    last = path[-1]\n",
    "    first = path[0]\n",
    "\n",
    "    total_cost += graph[last][first]\n",
    "\n",
    "    return total_cost"
   ]
  },
  {
   "cell_type": "markdown",
   "id": "275d10e9",
   "metadata": {},
   "source": [
    "## Principal Function"
   ]
  },
  {
   "cell_type": "code",
   "execution_count": 6,
   "id": "d5a46b97",
   "metadata": {},
   "outputs": [],
   "source": [
    "def ant_colony_optimization(graph, n_ants, n_iterations, decay, alpha, beta):\n",
    "    print(\"*** **************************************************** ***\")\n",
    "    print(\"*** Ant Colony Optimization x Traveling Salesman Problem ***\")\n",
    "    print(\"*** **************************************************** ***\\n\")\n",
    "\n",
    "    best_path = None\n",
    "    best_path_cost = np.inf\n",
    "    best_ant = None\n",
    "    best_update = False\n",
    "\n",
    "    n_cities = len(graph)\n",
    "    pheromone = np.ones((n_cities,n_cities)) / n_cities\n",
    "\n",
    "    for iteration in range(0, n_iterations):\n",
    "        all_paths = list()\n",
    "        ants = list()\n",
    "        for i in range(0, n_ants):\n",
    "            ant = Ant(i, graph)\n",
    "            ants.append(ant)\n",
    "            \n",
    "            found_path = ant.gen_path(pheromone)\n",
    "            all_paths.append(found_path)\n",
    "\n",
    "        for ant in ants:\n",
    "            ant.spread_pheromone(pheromone, all_paths)\n",
    "        pheromone = pheromone * decay\n",
    "\n",
    "        for ant in ants:\n",
    "            if ant.path_cost < best_path_cost:\n",
    "                best_path = ant.path\n",
    "                best_path_cost = ant.path_cost\n",
    "                best_ant = ant.id\n",
    "                best_update = True\n",
    "\n",
    "        if best_update == True:\n",
    "            print(\"Iteration: \" + str(iteration+1))\n",
    "            if iteration == 0:\n",
    "                print(\"Starting Best Path = \" + str(best_path))\n",
    "            else:\n",
    "                print(\"New Best Path = \" + str(best_path))\n",
    "            print(\"Found by Ant %d\" % best_ant)\n",
    "            print(\"Cost = %.3f\\n\" % best_path_cost)\n",
    "        \n",
    "        best_update = False\n",
    "    \n",
    "    print(\"\\n*** SEARCH IS OVER! ***\")\n",
    "    print(\"Final Best Path = \" + str(best_path))\n",
    "    print(\"Found by Ant %d\" % best_ant)\n",
    "    print(\"Cost = %.3f\" % best_path_cost)"
   ]
  },
  {
   "cell_type": "markdown",
   "id": "84d0b2fa",
   "metadata": {},
   "source": [
    "# CODE'S TEST SECTION"
   ]
  },
  {
   "cell_type": "code",
   "execution_count": 7,
   "id": "53f965da",
   "metadata": {},
   "outputs": [],
   "source": [
    "# Parameters Settings\n",
    "np.random.seed(0)\n",
    "n_cities = 8\n",
    "n_ants = 10\n",
    "n_iterations = 500\n",
    "alpha = 1.0\n",
    "beta = 1.0\n",
    "decay = 0.7"
   ]
  },
  {
   "cell_type": "code",
   "execution_count": 8,
   "id": "eaf117ab",
   "metadata": {},
   "outputs": [
    {
     "name": "stdout",
     "output_type": "stream",
     "text": [
      "Cities:\n",
      "[[72, -53], [17, 92], [-33, 95], [3, -91], [-79, -64], [-13, -30], [-12, 40], [-42, 93]]\n",
      "\n",
      "Graph, Adiacency Matrix:\n",
      "[[    inf 155.081 181.463  78.772 151.4    88.057 125.32  185.235]\n",
      " [155.081     inf  50.09  183.535 183.172 125.634  59.54   59.008]\n",
      " [181.463  50.09      inf 189.452 165.52  126.59   58.873   9.22 ]\n",
      " [ 78.772 183.535 189.452     inf  86.331  63.063 131.856 189.423]\n",
      " [151.4   183.172 165.52   86.331     inf  74.243 123.713 161.301]\n",
      " [ 88.057 125.634 126.59   63.063  74.243     inf  70.007 126.372]\n",
      " [125.32   59.54   58.873 131.856 123.713  70.007     inf  60.902]\n",
      " [185.235  59.008   9.22  189.423 161.301 126.372  60.902     inf]]\n"
     ]
    }
   ],
   "source": [
    "cities, graph = create_search_state(n_cities)\n",
    "\n",
    "print(\"Cities:\")\n",
    "print(cities)\n",
    "print()\n",
    "print(\"Graph, Adiacency Matrix:\")\n",
    "print(graph)"
   ]
  },
  {
   "cell_type": "code",
   "execution_count": 9,
   "id": "4c2f7bc3",
   "metadata": {
    "scrolled": true
   },
   "outputs": [
    {
     "name": "stdout",
     "output_type": "stream",
     "text": [
      "*** **************************************************** ***\n",
      "*** Ant Colony Optimization x Traveling Salesman Problem ***\n",
      "*** **************************************************** ***\n",
      "\n",
      "Iteration: 1\n",
      "Starting Best Path = [0, 3, 4, 5, 2, 7, 1, 6]\n",
      "Found by Ant 5\n",
      "Cost = 619.024\n",
      "\n",
      "Iteration: 8\n",
      "New Best Path = [7, 2, 1, 6, 5, 0, 3, 4]\n",
      "Found by Ant 0\n",
      "Cost = 603.318\n",
      "\n",
      "Iteration: 19\n",
      "New Best Path = [1, 2, 7, 6, 5, 4, 3, 0]\n",
      "Found by Ant 0\n",
      "Cost = 584.646\n",
      "\n",
      "\n",
      "*** SEARCH IS OVER! ***\n",
      "Final Best Path = [1, 2, 7, 6, 5, 4, 3, 0]\n",
      "Found by Ant 0\n",
      "Cost = 584.646\n"
     ]
    }
   ],
   "source": [
    "ant_colony_optimization(graph, n_ants, n_iterations, decay, alpha, beta)"
   ]
  }
 ],
 "metadata": {
  "kernelspec": {
   "display_name": "Python 3 (ipykernel)",
   "language": "python",
   "name": "python3"
  },
  "language_info": {
   "codemirror_mode": {
    "name": "ipython",
    "version": 3
   },
   "file_extension": ".py",
   "mimetype": "text/x-python",
   "name": "python",
   "nbconvert_exporter": "python",
   "pygments_lexer": "ipython3",
   "version": "3.9.12"
  }
 },
 "nbformat": 4,
 "nbformat_minor": 5
}
