{
 "cells": [
  {
   "cell_type": "code",
   "execution_count": 1,
   "id": "872de549",
   "metadata": {},
   "outputs": [],
   "source": [
    "import numpy as np\n",
    "from matplotlib import pyplot"
   ]
  },
  {
   "cell_type": "markdown",
   "id": "e7506043",
   "metadata": {},
   "source": [
    "## Objective Function"
   ]
  },
  {
   "cell_type": "markdown",
   "id": "806eb014",
   "metadata": {},
   "source": [
    "$$f(x)=x^2$$"
   ]
  },
  {
   "cell_type": "code",
   "execution_count": 2,
   "id": "22031b38",
   "metadata": {},
   "outputs": [],
   "source": [
    "def objective_function(x):\n",
    "    return x[0]**2.0\n",
    "# Observation: type(x) == numpy.array"
   ]
  },
  {
   "cell_type": "markdown",
   "id": "e0462801",
   "metadata": {},
   "source": [
    "### Visualization with MatplotLib"
   ]
  },
  {
   "cell_type": "code",
   "execution_count": 3,
   "id": "3acff072",
   "metadata": {},
   "outputs": [
    {
     "data": {
      "image/png": "[encoded data removed]",
      "text/plain": [
       "<Figure size 432x288 with 1 Axes>"
      ]
     },
     "metadata": {
      "needs_background": "light"
     },
     "output_type": "display_data"
    }
   ],
   "source": [
    "# Observation Interval for Input\n",
    "r_min, r_max = -5.0, 5.0\n",
    "\n",
    "# Uniform Sampling for Input's Observation Interval, with steps of 0.1 \n",
    "inputs = np.arange(r_min, r_max, 0.1)\n",
    "\n",
    "# Objective Functions' Values\n",
    "results = [objective_function([x]) for x in inputs]\n",
    " \n",
    "pyplot.plot(inputs, results)\n",
    "\n",
    "# Global Best Point\n",
    "x_optima = 0.0\n",
    "pyplot.axvline(x=x_optima, ls='--', color='red');"
   ]
  },
  {
   "cell_type": "markdown",
   "id": "4434e402",
   "metadata": {},
   "source": [
    "# FIRST-CHOICE HILL CLIMBING"
   ]
  },
  {
   "cell_type": "code",
   "execution_count": 4,
   "id": "63b9267b",
   "metadata": {},
   "outputs": [],
   "source": [
    "def first_choice_hill_climbing_with_scores(objective_function, bounds, n_iterations, step_size):\n",
    "    current = bounds[:, 0] + np.random.rand(len(bounds)) * (bounds[:, 1] - bounds[:, 0])    # Generation of a Random Starting State\n",
    "# Observations:\n",
    "    # - bounds[:, 0] -> Lower Bound of the imposed observation interval: \"5\" for the default execution.\n",
    "    # - np.random.rand(n) -> creates an array of the given shape and populates it with random samples from a Uniform Distribution over [0,1).\n",
    "    # - (bounds[:, 1] - bounds[:, 0]) -> Dimension of the imposed observation interval -> \"10\" for the default execution.\n",
    "    # - type(current) == numpy.ndarray\n",
    "    # - current.shape == (1,)\n",
    "\n",
    "# Starting State Evalutation\n",
    "    current_eval = objective_function(current)\n",
    "\n",
    "# Scores Memory\n",
    "    scores = list()\n",
    "    scores.append(current_eval)\n",
    "\n",
    "# Hill Climbing execution\n",
    "    for i in range(n_iterations):\n",
    "        next = current + np.random.randn(len(bounds)) * step_size   # Generation of a Random Next State\n",
    "# Observations:\n",
    "    # - len(bounds) == 1\n",
    "    # - np.random.randn(d0, d1, ..., dn) -> returns an array of the given shape and populated with samples from a Standard Normal Distribution\n",
    "    # - step_size -> Standard Normal Distribution's Standard Deviation\n",
    "\n",
    "# Next State Evalutation\n",
    "        next_eval = objective_function(next)\n",
    "\n",
    "        if next_eval <= current_eval:\n",
    "            print(\"Improvement Found at Iteration %d!\" % (i+1))\n",
    "            print(\"Old State: f(%s) = %.5f\" %(current, current_eval))\n",
    "            print(\"New State: f(%s) = %.5f\\n\" %(next, next_eval))\n",
    "            \n",
    "            current = next\n",
    "            current_eval = next_eval\n",
    "            scores.append(current_eval)\n",
    "    \n",
    "    print(\"*** END OF THE SEARCH! ***\")\n",
    "    return scores"
   ]
  },
  {
   "cell_type": "code",
   "execution_count": 5,
   "id": "b1ef9d92",
   "metadata": {},
   "outputs": [],
   "source": [
    "# Parameters Setting\n",
    "np.random.seed(5)\n",
    "bounds = np.asarray([[-5.0, 5.0]])\n",
    "n_iterations = 1000\n",
    "step_size = 0.1"
   ]
  },
  {
   "cell_type": "markdown",
   "id": "8f11b5ba",
   "metadata": {},
   "source": [
    "# CODE'S TEST SECTION"
   ]
  },
  {
   "cell_type": "code",
   "execution_count": 6,
   "id": "eea8f406",
   "metadata": {},
   "outputs": [
    {
     "name": "stdout",
     "output_type": "stream",
     "text": [
      "Improvement Found at Iteration 2!\n",
      "Old State: f([-2.78006829]) = 7.72878\n",
      "New State: f([-2.74290923]) = 7.52355\n",
      "\n",
      "Improvement Found at Iteration 4!\n",
      "Old State: f([-2.74290923]) = 7.52355\n",
      "New State: f([-2.65873147]) = 7.06885\n",
      "\n",
      "Improvement Found at Iteration 5!\n",
      "Old State: f([-2.65873147]) = 7.06885\n",
      "New State: f([-2.52197291]) = 6.36035\n",
      "\n",
      "Improvement Found at Iteration 6!\n",
      "Old State: f([-2.52197291]) = 6.36035\n",
      "New State: f([-2.46450214]) = 6.07377\n",
      "\n",
      "Improvement Found at Iteration 8!\n",
      "Old State: f([-2.46450214]) = 6.07377\n",
      "New State: f([-2.44740961]) = 5.98981\n",
      "\n",
      "Improvement Found at Iteration 10!\n",
      "Old State: f([-2.44740961]) = 5.98981\n",
      "New State: f([-2.28364676]) = 5.21504\n",
      "\n",
      "Improvement Found at Iteration 13!\n",
      "Old State: f([-2.28364676]) = 5.21504\n",
      "New State: f([-2.19245939]) = 4.80688\n",
      "\n",
      "Improvement Found at Iteration 15!\n",
      "Old State: f([-2.19245939]) = 4.80688\n",
      "New State: f([-2.01001538]) = 4.04016\n",
      "\n",
      "Improvement Found at Iteration 16!\n",
      "Old State: f([-2.01001538]) = 4.04016\n",
      "New State: f([-1.86425287]) = 3.47544\n",
      "\n",
      "Improvement Found at Iteration 23!\n",
      "Old State: f([-1.86425287]) = 3.47544\n",
      "New State: f([-1.79913002]) = 3.23687\n",
      "\n",
      "Improvement Found at Iteration 25!\n",
      "Old State: f([-1.79913002]) = 3.23687\n",
      "New State: f([-1.57525573]) = 2.48143\n",
      "\n",
      "Improvement Found at Iteration 26!\n",
      "Old State: f([-1.57525573]) = 2.48143\n",
      "New State: f([-1.55047719]) = 2.40398\n",
      "\n",
      "Improvement Found at Iteration 27!\n",
      "Old State: f([-1.55047719]) = 2.40398\n",
      "New State: f([-1.51783757]) = 2.30383\n",
      "\n",
      "Improvement Found at Iteration 28!\n",
      "Old State: f([-1.51783757]) = 2.30383\n",
      "New State: f([-1.49118756]) = 2.22364\n",
      "\n",
      "Improvement Found at Iteration 29!\n",
      "Old State: f([-1.49118756]) = 2.22364\n",
      "New State: f([-1.45344116]) = 2.11249\n",
      "\n",
      "Improvement Found at Iteration 31!\n",
      "Old State: f([-1.45344116]) = 2.11249\n",
      "New State: f([-1.33055275]) = 1.77037\n",
      "\n",
      "Improvement Found at Iteration 33!\n",
      "Old State: f([-1.33055275]) = 1.77037\n",
      "New State: f([-1.17805016]) = 1.38780\n",
      "\n",
      "Improvement Found at Iteration 34!\n",
      "Old State: f([-1.17805016]) = 1.38780\n",
      "New State: f([-1.15189314]) = 1.32686\n",
      "\n",
      "Improvement Found at Iteration 37!\n",
      "Old State: f([-1.15189314]) = 1.32686\n",
      "New State: f([-1.03852644]) = 1.07854\n",
      "\n",
      "Improvement Found at Iteration 38!\n",
      "Old State: f([-1.03852644]) = 1.07854\n",
      "New State: f([-0.99135322]) = 0.98278\n",
      "\n",
      "Improvement Found at Iteration 39!\n",
      "Old State: f([-0.99135322]) = 0.98278\n",
      "New State: f([-0.79448984]) = 0.63121\n",
      "\n",
      "Improvement Found at Iteration 40!\n",
      "Old State: f([-0.79448984]) = 0.63121\n",
      "New State: f([-0.69837955]) = 0.48773\n",
      "\n",
      "Improvement Found at Iteration 43!\n",
      "Old State: f([-0.69837955]) = 0.48773\n",
      "New State: f([-0.69317313]) = 0.48049\n",
      "\n",
      "Improvement Found at Iteration 47!\n",
      "Old State: f([-0.69317313]) = 0.48049\n",
      "New State: f([-0.61801423]) = 0.38194\n",
      "\n",
      "Improvement Found at Iteration 49!\n",
      "Old State: f([-0.61801423]) = 0.38194\n",
      "New State: f([-0.48799625]) = 0.23814\n",
      "\n",
      "Improvement Found at Iteration 51!\n",
      "Old State: f([-0.48799625]) = 0.23814\n",
      "New State: f([-0.22149135]) = 0.04906\n",
      "\n",
      "Improvement Found at Iteration 55!\n",
      "Old State: f([-0.22149135]) = 0.04906\n",
      "New State: f([-0.20017144]) = 0.04007\n",
      "\n",
      "Improvement Found at Iteration 58!\n",
      "Old State: f([-0.20017144]) = 0.04007\n",
      "New State: f([-0.15994446]) = 0.02558\n",
      "\n",
      "Improvement Found at Iteration 61!\n",
      "Old State: f([-0.15994446]) = 0.02558\n",
      "New State: f([-0.15492485]) = 0.02400\n",
      "\n",
      "Improvement Found at Iteration 62!\n",
      "Old State: f([-0.15492485]) = 0.02400\n",
      "New State: f([-0.03572481]) = 0.00128\n",
      "\n",
      "Improvement Found at Iteration 65!\n",
      "Old State: f([-0.03572481]) = 0.00128\n",
      "New State: f([-0.03051261]) = 0.00093\n",
      "\n",
      "Improvement Found at Iteration 67!\n",
      "Old State: f([-0.03051261]) = 0.00093\n",
      "New State: f([-0.0074283]) = 0.00006\n",
      "\n",
      "Improvement Found at Iteration 79!\n",
      "Old State: f([-0.0074283]) = 0.00006\n",
      "New State: f([-0.00202357]) = 0.00000\n",
      "\n",
      "Improvement Found at Iteration 120!\n",
      "Old State: f([-0.00202357]) = 0.00000\n",
      "New State: f([0.00128373]) = 0.00000\n",
      "\n",
      "Improvement Found at Iteration 121!\n",
      "Old State: f([0.00128373]) = 0.00000\n",
      "New State: f([-0.00040911]) = 0.00000\n",
      "\n",
      "Improvement Found at Iteration 315!\n",
      "Old State: f([-0.00040911]) = 0.00000\n",
      "New State: f([-0.00017051]) = 0.00000\n",
      "\n",
      "*** END OF THE SEARCH! ***\n"
     ]
    }
   ],
   "source": [
    "scores = first_choice_hill_climbing_with_scores(objective_function, bounds, n_iterations, step_size)"
   ]
  },
  {
   "cell_type": "markdown",
   "id": "2d2cf3e4",
   "metadata": {},
   "source": [
    "### Scores Plot with MatplotLib"
   ]
  },
  {
   "cell_type": "code",
   "execution_count": 7,
   "id": "955f8281",
   "metadata": {},
   "outputs": [
    {
     "data": {
      "text/plain": [
       "Text(0, 0.5, \"Evalutation Function's Value\")"
      ]
     },
     "execution_count": 7,
     "metadata": {},
     "output_type": "execute_result"
    },
    {
     "data": {
      "image/png": "[encoded data removed]",
      "text/plain": [
       "<Figure size 432x288 with 1 Axes>"
      ]
     },
     "metadata": {
      "needs_background": "light"
     },
     "output_type": "display_data"
    }
   ],
   "source": [
    "pyplot.plot(scores, '.-')\n",
    "pyplot.xlabel(\"Improvement Number\")\n",
    "pyplot.ylabel(\"Evalutation Function's Value\")"
   ]
  }
 ],
 "metadata": {
  "kernelspec": {
   "display_name": "Python 3 (ipykernel)",
   "language": "python",
   "name": "python3"
  },
  "language_info": {
   "codemirror_mode": {
    "name": "ipython",
    "version": 3
   },
   "file_extension": ".py",
   "mimetype": "text/x-python",
   "name": "python",
   "nbconvert_exporter": "python",
   "pygments_lexer": "ipython3",
   "version": "3.9.12"
  }
 },
 "nbformat": 4,
 "nbformat_minor": 5
}
