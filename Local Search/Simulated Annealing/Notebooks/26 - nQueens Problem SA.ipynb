{
 "cells": [
  {
   "cell_type": "code",
   "execution_count": 1,
   "metadata": {
    "id": "tuqE2kSyo1Fx"
   },
   "outputs": [],
   "source": [
    "import random\n",
    "import numpy as np\n",
    "import math"
   ]
  },
  {
   "cell_type": "markdown",
   "metadata": {},
   "source": [
    "# Problem Description\n",
    "\n",
    "nQueens Problem: we got a Chessboard (\"N\" rows and \"N\" columns) and we want to place \"N\" Queens on it in order to have none of them putting the others in check.\n",
    "We decide to exploit the \"Simulated Annealing\" Algorithm.\n",
    "\n",
    "To simplify the state definition and the problem itself, we decide to place only one Queen for each column of the board.\n",
    "In this way we can easily represent the board with a vector of dimension \"N\": each index stands for a column index and each value stands for a row index.\n",
    "\n",
    "For example, if we have: vector[2] = 5, it means that we have a Queen on the (5,2) cell.\n",
    "\n",
    "Each state is evaluated in terms fo the number of conflicts between the queens: we want to reach \"0\" for this value."
   ]
  },
  {
   "cell_type": "markdown",
   "metadata": {
    "id": "GTqqqH9co1Fy"
   },
   "source": [
    "## Getting a New Random State\n",
    "\n",
    "Each state has his own neighborhood, obtained imposing the \"swap\" between two columns of the board.\n",
    "If we have \"N\" columns, the neighborhood's cardinality is equal to: N(N-1)/2.\n",
    "\n",
    "\"Simulated Annealing\" Algorithm generates only one Neighbor from the Current State"
   ]
  },
  {
   "cell_type": "code",
   "execution_count": 2,
   "metadata": {
    "id": "tRfg4sqPo1Fy"
   },
   "outputs": [],
   "source": [
    "def tweak(solution):\n",
    "    solution_copy = np.copy(solution)\n",
    "# We randomely choose two separate column indexes\n",
    "    x = random.randint(0, N-1)\n",
    "    y = random.randint(0, N-1)\n",
    "    while x == y:\n",
    "        y = random.randint(0, N-1)\n",
    "    \n",
    "# Column Swap\n",
    "    temp = solution_copy[y]\n",
    "    solution_copy[y] = solution_copy[x]\n",
    "    solution_copy[x] = temp\n",
    "\n",
    "    return solution_copy"
   ]
  },
  {
   "cell_type": "markdown",
   "metadata": {},
   "source": [
    "## Getting the Starting State"
   ]
  },
  {
   "cell_type": "code",
   "execution_count": 3,
   "metadata": {},
   "outputs": [],
   "source": [
    "def get_starting_state(solution):\n",
    "    for c in range(0, N):\n",
    "        solution = tweak(solution)\n",
    "    return solution"
   ]
  },
  {
   "cell_type": "markdown",
   "metadata": {
    "id": "7TsHHuhko1Fz"
   },
   "source": [
    "## Evaluation Function"
   ]
  },
  {
   "cell_type": "code",
   "execution_count": 4,
   "metadata": {
    "id": "32LI3xHLo1Fz"
   },
   "outputs": [],
   "source": [
    "def energy_function(state):\n",
    "# Chessboard Definition\n",
    "    board = [[0] * N for i in range(N)]\n",
    "# Placing the Queens on the Chessboard\n",
    "    for i in range(0, N):\n",
    "        board[state[i]][i] = 'Q'\n",
    "\n",
    "# Possible Moves on the Chessboard: having one Queen on each column/row, we need to count only the conflicts on the diagonals\n",
    "    dx = [1,1,-1,-1]\n",
    "    dy = [1,-1,1,-1]\n",
    "# Observations:\n",
    "    # - dx == 1, dy == 1: \"Bottom-Right\" move\n",
    "    # - dx == 1, dy == -1: \"Bottom-Left\" move\n",
    "    # - dx == -1, dy == 1: \"Top-Right\" move\n",
    "    # - dx == -1, dy == -1: \"Top-Left\" move\n",
    "\n",
    "    conflicts = 0\n",
    "\n",
    "    for i in range(0, N):\n",
    "        x = state[i]\n",
    "        y = i\n",
    "\n",
    "# Conflicts Count\n",
    "        for j in range(0,4):\n",
    "            temp_x = x\n",
    "            temp_y = y\n",
    "            while True:\n",
    "                temp_x += dx[j]\n",
    "                temp_y += dy[j]\n",
    "\n",
    "                if (temp_x < 0 or temp_x >= N) or (temp_y < 0 or temp_y >= N):\n",
    "                    break\n",
    "\n",
    "                if board[temp_x][temp_y] == 'Q':\n",
    "                    conflicts += 1\n",
    "    \n",
    "    return conflicts"
   ]
  },
  {
   "cell_type": "markdown",
   "metadata": {
    "id": "IUl01CT9o1F0"
   },
   "source": [
    "## Chessboard Print Function"
   ]
  },
  {
   "cell_type": "code",
   "execution_count": 5,
   "metadata": {
    "id": "5XZtee13o1F0"
   },
   "outputs": [],
   "source": [
    "def print_chessboard(state):\n",
    "# Chessboard Definition\n",
    "    board = [[0] * N for i in range(N)]\n",
    "# Placing the Queens on the Chessboard\n",
    "    for i in range(0, N):\n",
    "        board[state[i]][i] = 'Q'\n",
    "\n",
    "    for x in range(0, N):\n",
    "        for y in range(0, N):\n",
    "            if board[x][y] == 'Q':\n",
    "                print(\"Q    \", end=\"\")\n",
    "            else:\n",
    "                print(\".    \", end=\"\")\n",
    "        print(\"\\n\")"
   ]
  },
  {
   "cell_type": "markdown",
   "metadata": {
    "id": "sdUXmXtho1F1"
   },
   "source": [
    "# Simulated Annealing Algorithm"
   ]
  },
  {
   "cell_type": "code",
   "execution_count": 6,
   "metadata": {
    "colab": {
     "base_uri": "https://localhost:8080/"
    },
    "id": "AST0wZkzo1F1",
    "outputId": "f3f1956c-dd2f-40c0-bf18-99a9eee30635",
    "scrolled": false
   },
   "outputs": [],
   "source": [
    "def simulated_annealing():\n",
    "    print(\"*** ***************** ***\")\n",
    "    print(\"*** %d QUEENS PROBLEM ***\" % N)\n",
    "    print(\"*** ***************** ***\\n\")\n",
    "\n",
    "# Initial State\n",
    "    current = get_starting_state(range(0, N))\n",
    "    current_energy = energy_function(current)\n",
    "\n",
    "# \"Best\" Inizialization\n",
    "    best = current\n",
    "    best_energy = current_energy\n",
    "\n",
    "    print(\"STARTING STATE: Conflicts = %d\" % best_energy)\n",
    "    print_chessboard(best)\n",
    "\n",
    "# Temperature Inizialization\n",
    "    temperature = T_START\n",
    "    \n",
    "    iterations = 1\n",
    "    print(\"\\n*** SEARCH IS STARTING... ***\")\n",
    "    while (temperature > T_END and best_energy > 0):\n",
    "        print(\"ITERATION: %d\" % iterations)\n",
    "        print(\"Temperature: %.3f\" % temperature)\n",
    "        print(\"Conflicts = %d\\n\" % best_energy)\n",
    "        \n",
    "        for i in range(0, STEPS_PER_CHANGE):\n",
    "            update = False\n",
    "\n",
    "# Getting & Evaluating a New Random State\n",
    "            next = tweak(current)\n",
    "            next_energy = energy_function(next)\n",
    "\n",
    "            if next_energy < current_energy:\n",
    "                update = True\n",
    "            else:\n",
    "                delta_energy = next_energy - current_energy\n",
    "                metropolis = math.exp(-delta_energy/temperature)\n",
    "                test = random.random()\n",
    "                \n",
    "                if (test < metropolis):\n",
    "                    update = True\n",
    "            \n",
    "            if update:\n",
    "                current = next\n",
    "                current_energy = next_energy\n",
    "\n",
    "                if (current_energy < best_energy):\n",
    "                    best = current\n",
    "                    best_energy = current_energy\n",
    "            \n",
    "        temperature *= ALPHA\n",
    "        iterations += 1\n",
    "\n",
    "    print(\"\\n*** SEARCH IS OVER! ***\")\n",
    "    print(\"FINAL STATE: Conflicts = %d\" % best_energy)\n",
    "    print_chessboard(best)"
   ]
  },
  {
   "cell_type": "markdown",
   "metadata": {},
   "source": [
    "# CODE'S TEST SECTION"
   ]
  },
  {
   "cell_type": "code",
   "execution_count": 7,
   "metadata": {},
   "outputs": [],
   "source": [
    "# Parameters Settings\n",
    "N = 8   # \"Classic\" Chessboard\n",
    "T_START = 30\n",
    "T_END = 0.2\n",
    "ALPHA = 0.8\n",
    "STEPS_PER_CHANGE = 40"
   ]
  },
  {
   "cell_type": "code",
   "execution_count": 8,
   "metadata": {},
   "outputs": [
    {
     "name": "stdout",
     "output_type": "stream",
     "text": [
      "*** ***************** ***\n",
      "*** 8 QUEENS PROBLEM ***\n",
      "*** ***************** ***\n",
      "\n",
      "STARTING STATE: Conflicts = 16\n",
      ".    .    .    .    .    .    Q    .    \n",
      "\n",
      ".    .    .    .    .    Q    .    .    \n",
      "\n",
      ".    Q    .    .    .    .    .    .    \n",
      "\n",
      ".    .    .    .    .    .    .    Q    \n",
      "\n",
      ".    .    Q    .    .    .    .    .    \n",
      "\n",
      ".    .    .    Q    .    .    .    .    \n",
      "\n",
      "Q    .    .    .    .    .    .    .    \n",
      "\n",
      ".    .    .    .    Q    .    .    .    \n",
      "\n",
      "\n",
      "*** SEARCH IS STARTING... ***\n",
      "ITERATION: 1\n",
      "Temperature: 30.000\n",
      "Conflicts = 16\n",
      "\n",
      "ITERATION: 2\n",
      "Temperature: 24.000\n",
      "Conflicts = 4\n",
      "\n",
      "ITERATION: 3\n",
      "Temperature: 19.200\n",
      "Conflicts = 4\n",
      "\n",
      "ITERATION: 4\n",
      "Temperature: 15.360\n",
      "Conflicts = 2\n",
      "\n",
      "ITERATION: 5\n",
      "Temperature: 12.288\n",
      "Conflicts = 2\n",
      "\n",
      "ITERATION: 6\n",
      "Temperature: 9.830\n",
      "Conflicts = 2\n",
      "\n",
      "\n",
      "*** SEARCH IS OVER! ***\n",
      "FINAL STATE: Conflicts = 0\n",
      ".    .    Q    .    .    .    .    .    \n",
      "\n",
      ".    .    .    .    .    Q    .    .    \n",
      "\n",
      ".    .    .    .    .    .    .    Q    \n",
      "\n",
      "Q    .    .    .    .    .    .    .    \n",
      "\n",
      ".    .    .    .    Q    .    .    .    \n",
      "\n",
      ".    .    .    .    .    .    Q    .    \n",
      "\n",
      ".    Q    .    .    .    .    .    .    \n",
      "\n",
      ".    .    .    Q    .    .    .    .    \n",
      "\n"
     ]
    }
   ],
   "source": [
    "simulated_annealing()"
   ]
  }
 ],
 "metadata": {
  "colab": {
   "name": "SimulatedAnnealing.ipynb",
   "provenance": []
  },
  "kernelspec": {
   "display_name": "Python 3 (ipykernel)",
   "language": "python",
   "name": "python3"
  },
  "language_info": {
   "codemirror_mode": {
    "name": "ipython",
    "version": 3
   },
   "file_extension": ".py",
   "mimetype": "text/x-python",
   "name": "python",
   "nbconvert_exporter": "python",
   "pygments_lexer": "ipython3",
   "version": "3.9.12"
  }
 },
 "nbformat": 4,
 "nbformat_minor": 1
}
