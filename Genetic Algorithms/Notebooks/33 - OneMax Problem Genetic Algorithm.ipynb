{
 "cells": [
  {
   "cell_type": "code",
   "execution_count": 1,
   "metadata": {},
   "outputs": [],
   "source": [
    "import numpy as np"
   ]
  },
  {
   "cell_type": "markdown",
   "metadata": {},
   "source": [
    "# Problem Description\n",
    "\n",
    "\"OneMax\" Problem: this problem aims to transform a random Binary String in a Binary one, which contains only \"1\".\n",
    "To achieve this objective, we decide to exploit a Genetic Algorithm."
   ]
  },
  {
   "cell_type": "markdown",
   "metadata": {},
   "source": [
    "## Starting Population"
   ]
  },
  {
   "cell_type": "code",
   "execution_count": 2,
   "metadata": {},
   "outputs": [],
   "source": [
    "# FUNCTION: create a population of cardinality \"n_bits\", composed by Binary Strings with \"len(bin_string) == n_bits\"\n",
    "def create_population(n_population, n_bits):\n",
    "    population = list()\n",
    "    for n in range(n_population):\n",
    "        sample = np.random.randint(0, 2, n_bits).tolist()\n",
    "        population.append(sample)\n",
    "\n",
    "    # Faster Version\n",
    "    # population = [np.random.randint(0, 2, n_bits).tolist() for _ in range(n_population)]\n",
    "\n",
    "    return population"
   ]
  },
  {
   "cell_type": "markdown",
   "metadata": {},
   "source": [
    "## Selection"
   ]
  },
  {
   "cell_type": "code",
   "execution_count": 3,
   "metadata": {},
   "outputs": [],
   "source": [
    "# FUNCTION: Tournament Selection. We randomely select and compare \"k\" samples from the population: the best one is returned as \"parent\".\n",
    "def selection(population, scores, k=3):\n",
    "    selected_idx = np.random.randint((len(population)))\n",
    "\n",
    "    for idx in np.random.randint(0, len(population), k-1):\n",
    "        if scores[idx] < scores[selected_idx]:\n",
    "            selected_idx = idx\n",
    "    \n",
    "    return population[selected_idx]"
   ]
  },
  {
   "cell_type": "markdown",
   "metadata": {},
   "source": [
    "## Crossover"
   ]
  },
  {
   "cell_type": "code",
   "execution_count": 4,
   "metadata": {},
   "outputs": [],
   "source": [
    "# FUNCTION: Crossover. We execute de \"1-Point Crossover\" between the Parents.\n",
    "def crossover(p1, p2, r_crossover):\n",
    "    c1, c2 = p1.copy(), p2.copy()\n",
    "\n",
    "    execute_crossover = np.random.rand()\n",
    "    \n",
    "    if execute_crossover < r_crossover:\n",
    "        point = np.random.randint(1, len(p1)-2)\n",
    "\n",
    "        c1 = p1[:point] + p2[point:]\n",
    "        c2 = p2[:point] + p1[point:]\n",
    "    \n",
    "    return [c1, c2]"
   ]
  },
  {
   "cell_type": "markdown",
   "metadata": {},
   "source": [
    "## Mutation"
   ]
  },
  {
   "cell_type": "code",
   "execution_count": 5,
   "metadata": {},
   "outputs": [],
   "source": [
    "# FUNCTION: Mutation.\n",
    "def mutation(children, r_mutation):\n",
    "    for i in range(len(children)):\n",
    "        execute_mutation = np.random.rand()\n",
    "        if execute_mutation < r_mutation:\n",
    "            children[i] = 1 - children[i]"
   ]
  },
  {
   "cell_type": "markdown",
   "metadata": {},
   "source": [
    "## Fitness Function"
   ]
  },
  {
   "cell_type": "code",
   "execution_count": 6,
   "metadata": {},
   "outputs": [],
   "source": [
    "# FUNCTION: evaluates a Binary String with the sum of his values. The \"-\" sign is related to the aiming of minimizing the Fitness Function\n",
    "def onemax(bin_string):\n",
    "    return -sum(bin_string)"
   ]
  },
  {
   "cell_type": "markdown",
   "metadata": {},
   "source": [
    "## Genetic Algorithm (Principal Function)"
   ]
  },
  {
   "cell_type": "code",
   "execution_count": 7,
   "metadata": {},
   "outputs": [],
   "source": [
    "def genetic_algorithm(objective, n_bits, n_iterations, n_population, r_crossover, r_mutation):\n",
    "    print(\"*** ********************************** ***\")\n",
    "    print(\"*** Genetic Algorithm x OneMax Problem ***\")\n",
    "    print(\"*** ********************************** ***\\n\")\n",
    "    # Getting the Starting Population\n",
    "    population = create_population(n_population, n_bits)\n",
    "    \n",
    "    # Initializing \"Best\"\n",
    "    best = population[0]\n",
    "    best_eval = objective(best)\n",
    "\n",
    "    # Iterate over \"n_iterations\" Generations\n",
    "    iteration = 1\n",
    "    for gen in range(n_iterations):\n",
    "        scores = list()\n",
    "        for sample in population:\n",
    "            scores.append(objective(sample))\n",
    "        \n",
    "        # (Eventually) Update the Best Solution\n",
    "        new_best_found = False\n",
    "        for i in range(n_population):\n",
    "            if scores[i] < best_eval:\n",
    "                new_best_found = True\n",
    "                best = population[i]\n",
    "                best_eval = scores[i]\n",
    "\n",
    "        if (new_best_found == True):\n",
    "            print(\"New \\'Best\\' found at Iteration %d\" % iteration)\n",
    "            print(\"New Best = \" + str(best))\n",
    "            print(\"New Best Eval = %d\\n\" % best_eval)\n",
    "        \n",
    "        # Time to Create the New Generation\n",
    "        parents = list()\n",
    "        children = list()\n",
    "\n",
    "        for i in range(n_population):\n",
    "            parents.append(selection(population, scores))\n",
    "        \n",
    "        for i in range(0, n_population, 2):\n",
    "            p1 = parents[i]\n",
    "            p2 = parents[i+1]\n",
    "\n",
    "            for c in crossover(p1, p2, r_crossover):\n",
    "                mutation(c, r_mutation)\n",
    "                children.append(c)\n",
    "        \n",
    "        population = children\n",
    "        iteration += 1"
   ]
  },
  {
   "cell_type": "markdown",
   "metadata": {},
   "source": [
    "# CODE'S TEST SECTION"
   ]
  },
  {
   "cell_type": "code",
   "execution_count": 8,
   "metadata": {},
   "outputs": [],
   "source": [
    "# Parameters Settings\n",
    "np.random.seed(4)\n",
    "\n",
    "n_iterations = 100\n",
    "n_bits = 25\n",
    "n_population = 100\n",
    "r_crossover = 0.9\n",
    "r_mutation = 1.0 / float(n_bits)"
   ]
  },
  {
   "cell_type": "code",
   "execution_count": 9,
   "metadata": {},
   "outputs": [
    {
     "name": "stdout",
     "output_type": "stream",
     "text": [
      "*** ********************************** ***\n",
      "*** Genetic Algorithm x OneMax Problem ***\n",
      "*** ********************************** ***\n",
      "\n",
      "New 'Best' found at Iteration 1\n",
      "New Best = [0, 1, 1, 1, 1, 1, 0, 0, 0, 0, 1, 1, 1, 0, 1, 1, 1, 1, 1, 0, 1, 1, 1, 1, 1]\n",
      "New Best Eval = -18\n",
      "\n",
      "New 'Best' found at Iteration 2\n",
      "New Best = [0, 0, 0, 0, 1, 1, 1, 1, 1, 1, 1, 1, 0, 1, 1, 1, 1, 1, 1, 1, 1, 0, 1, 1, 1]\n",
      "New Best Eval = -19\n",
      "\n",
      "New 'Best' found at Iteration 3\n",
      "New Best = [1, 1, 1, 0, 1, 1, 1, 1, 1, 1, 1, 1, 0, 1, 1, 1, 1, 0, 1, 0, 1, 1, 1, 1, 1]\n",
      "New Best Eval = -21\n",
      "\n",
      "New 'Best' found at Iteration 5\n",
      "New Best = [1, 1, 1, 0, 1, 1, 1, 1, 1, 0, 1, 1, 0, 1, 1, 1, 1, 1, 1, 1, 1, 1, 1, 1, 1]\n",
      "New Best Eval = -22\n",
      "\n",
      "New 'Best' found at Iteration 6\n",
      "New Best = [1, 1, 1, 0, 1, 1, 1, 1, 1, 0, 1, 1, 1, 1, 1, 1, 1, 1, 1, 1, 1, 1, 1, 1, 1]\n",
      "New Best Eval = -23\n",
      "\n",
      "New 'Best' found at Iteration 7\n",
      "New Best = [0, 1, 1, 1, 1, 1, 1, 1, 1, 1, 1, 1, 1, 1, 1, 1, 1, 1, 1, 1, 1, 1, 1, 1, 1]\n",
      "New Best Eval = -24\n",
      "\n",
      "New 'Best' found at Iteration 8\n",
      "New Best = [1, 1, 1, 1, 1, 1, 1, 1, 1, 1, 1, 1, 1, 1, 1, 1, 1, 1, 1, 1, 1, 1, 1, 1, 1]\n",
      "New Best Eval = -25\n",
      "\n"
     ]
    }
   ],
   "source": [
    "genetic_algorithm(onemax, n_bits, n_iterations, n_population, r_crossover, r_mutation)"
   ]
  },
  {
   "cell_type": "markdown",
   "metadata": {},
   "source": [
    "## Other Tests"
   ]
  },
  {
   "cell_type": "code",
   "execution_count": 11,
   "metadata": {},
   "outputs": [
    {
     "data": {
      "text/plain": [
       "[[0, 1, 0, 1, 1, 0, 0, 1, 0, 1, 0, 0, 1, 1, 1],\n",
       " [1, 1, 0, 1, 0, 1, 1, 0, 0, 1, 1, 1, 1, 0, 1],\n",
       " [0, 0, 1, 0, 1, 1, 0, 0, 0, 1, 1, 1, 1, 1, 0],\n",
       " [1, 1, 0, 1, 0, 0, 1, 1, 1, 1, 0, 0, 1, 0, 0],\n",
       " [0, 0, 1, 0, 1, 0, 1, 0, 1, 1, 1, 1, 1, 0, 0],\n",
       " [0, 1, 0, 1, 1, 0, 0, 1, 1, 1, 0, 1, 1, 0, 0],\n",
       " [1, 0, 1, 0, 1, 0, 0, 1, 0, 1, 0, 0, 0, 0, 0],\n",
       " [1, 1, 0, 0, 0, 1, 1, 1, 0, 1, 0, 0, 0, 1, 1],\n",
       " [0, 1, 1, 1, 0, 0, 0, 0, 0, 1, 1, 0, 0, 0, 1],\n",
       " [0, 1, 0, 0, 0, 0, 1, 0, 0, 0, 1, 1, 1, 0, 0]]"
      ]
     },
     "execution_count": 11,
     "metadata": {},
     "output_type": "execute_result"
    }
   ],
   "source": [
    "# Generating the Initial Population\n",
    "\n",
    "n_pop = 10\n",
    "n_bits = 15\n",
    "population = create_population(n_pop, n_bits)\n",
    "\n",
    "population"
   ]
  },
  {
   "cell_type": "code",
   "execution_count": 12,
   "metadata": {},
   "outputs": [
    {
     "data": {
      "text/plain": [
       "[-8, -10, -8, -8, -8, -8, -5, -8, -6, -5]"
      ]
     },
     "execution_count": 12,
     "metadata": {},
     "output_type": "execute_result"
    }
   ],
   "source": [
    "# Evaluating the Population\n",
    "scores = list()\n",
    "\n",
    "for sample in population:\n",
    "    scores.append(onemax(sample))\n",
    "    \n",
    "scores"
   ]
  },
  {
   "cell_type": "code",
   "execution_count": 13,
   "metadata": {},
   "outputs": [
    {
     "data": {
      "text/plain": [
       "[[1, 1, 0, 1, 0, 1, 1, 0, 0, 1, 1, 1, 1, 0, 1],\n",
       " [0, 1, 0, 1, 1, 0, 0, 1, 0, 1, 0, 0, 1, 1, 1],\n",
       " [0, 0, 1, 0, 1, 1, 0, 0, 0, 1, 1, 1, 1, 1, 0],\n",
       " [1, 1, 0, 0, 0, 1, 1, 1, 0, 1, 0, 0, 0, 1, 1],\n",
       " [1, 1, 0, 1, 0, 1, 1, 0, 0, 1, 1, 1, 1, 0, 1],\n",
       " [0, 0, 1, 0, 1, 0, 1, 0, 1, 1, 1, 1, 1, 0, 0],\n",
       " [1, 1, 0, 1, 0, 0, 1, 1, 1, 1, 0, 0, 1, 0, 0],\n",
       " [1, 1, 0, 1, 0, 1, 1, 0, 0, 1, 1, 1, 1, 0, 1],\n",
       " [1, 1, 0, 0, 0, 1, 1, 1, 0, 1, 0, 0, 0, 1, 1],\n",
       " [0, 1, 1, 1, 0, 0, 0, 0, 0, 1, 1, 0, 0, 0, 1]]"
      ]
     },
     "execution_count": 13,
     "metadata": {},
     "output_type": "execute_result"
    }
   ],
   "source": [
    "# Parents Selection\n",
    "parents = list()\n",
    "\n",
    "for i in range(n_pop):\n",
    "    parents.append(selection(population,scores))\n",
    "    \n",
    "parents"
   ]
  },
  {
   "cell_type": "code",
   "execution_count": 15,
   "metadata": {},
   "outputs": [
    {
     "name": "stdout",
     "output_type": "stream",
     "text": [
      "c1: [0, 1, 0, 1, 1, 0, 0, 1, 0, 1, 0, 0, 1, 1, 1]\n",
      "c2: [0, 0, 1, 0, 1, 1, 0, 0, 0, 1, 1, 1, 1, 1, 0]\n"
     ]
    }
   ],
   "source": [
    "# Crossover Test\n",
    "i = 1\n",
    "p1, p2 = parents[i], parents[i+1]\n",
    "\n",
    "c1, c2 = crossover(p1, p2, r_crossover)\n",
    "\n",
    "print(\"c1: \" + str(c1))\n",
    "print(\"c2: \" + str(c2))"
   ]
  },
  {
   "cell_type": "code",
   "execution_count": 18,
   "metadata": {},
   "outputs": [
    {
     "name": "stdout",
     "output_type": "stream",
     "text": [
      "c1 before Mutation: [0, 1, 0, 1, 1, 0, 0, 1, 0, 1, 0, 0, 1, 1, 1]\n",
      "c2 after Mutation: [0, 1, 0, 1, 1, 0, 0, 1, 0, 0, 0, 0, 1, 1, 1]\n"
     ]
    }
   ],
   "source": [
    "# Mutation Test\n",
    "print(\"c1 before Mutation: \" + str(c1))\n",
    "mutation(c1, r_mutation)\n",
    "print(\"c2 after Mutation: \" + str(c1))"
   ]
  }
 ],
 "metadata": {
  "kernelspec": {
   "display_name": "Python 3 (ipykernel)",
   "language": "python",
   "name": "python3"
  },
  "language_info": {
   "codemirror_mode": {
    "name": "ipython",
    "version": 3
   },
   "file_extension": ".py",
   "mimetype": "text/x-python",
   "name": "python",
   "nbconvert_exporter": "python",
   "pygments_lexer": "ipython3",
   "version": "3.9.12"
  }
 },
 "nbformat": 4,
 "nbformat_minor": 2
}
