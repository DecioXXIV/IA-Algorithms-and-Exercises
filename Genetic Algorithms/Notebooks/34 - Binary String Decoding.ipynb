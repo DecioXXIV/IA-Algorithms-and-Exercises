{
 "cells": [
  {
   "cell_type": "code",
   "execution_count": 1,
   "metadata": {},
   "outputs": [],
   "source": [
    "import numpy as np"
   ]
  },
  {
   "cell_type": "markdown",
   "metadata": {},
   "source": [
    "# Problem Description\n",
    "\n",
    "It is given the following Objective Function and it's asked to minimize it. \n",
    "$$f(x,y) = x^2 + y^2$$\n",
    "\n",
    "This function has a global minimum in (0,0), where f(0,0) = 0."
   ]
  },
  {
   "cell_type": "code",
   "execution_count": 2,
   "metadata": {},
   "outputs": [],
   "source": [
    "def objective(x):\n",
    "    return (x[0]**2.0 + x[1]**2.0)"
   ]
  },
  {
   "cell_type": "markdown",
   "metadata": {},
   "source": [
    "## Create Starting Population"
   ]
  },
  {
   "cell_type": "code",
   "execution_count": 3,
   "metadata": {},
   "outputs": [],
   "source": [
    "def create_population(n_bits, n_population, bounds):\n",
    "    population = list()\n",
    "    for n in range(n_population):\n",
    "        sample = np.random.randint(0, 2, n_bits*len(bounds)).tolist()\n",
    "        population.append(sample)\n",
    "    \n",
    "    # Observation: each sample of the population is a 32-Bit-Binary String in which the First 16 Bits describe the \"X\" and the Last 16 Bits describe the \"Y\".\n",
    "    return population"
   ]
  },
  {
   "cell_type": "markdown",
   "metadata": {},
   "source": [
    "## Decoding Function"
   ]
  },
  {
   "cell_type": "code",
   "execution_count": 4,
   "metadata": {},
   "outputs": [],
   "source": [
    "def decode(bounds, n_bits, sample):\n",
    "    decoded = list()\n",
    "    max_value = 2**n_bits - 1\n",
    "    \n",
    "    for i in range(len(bounds)):\n",
    "        # Substring Extraction\n",
    "        start = i * n_bits              # i=0 -> start = 0, i=1 -> start = 16\n",
    "        end = (i * n_bits) + n_bits     # i=0 -> end = 16, i=1 -> end = 32 \n",
    "\n",
    "        substring = sample[start:end]\n",
    "\n",
    "        chars = ''.join([str(s) for s in substring])\n",
    "        integer = int(chars, 2)         # Transforms the Binary Number in a Decimal Number\n",
    "\n",
    "        value = bounds[i][0] + (integer/max_value) * (bounds[i][1] - bounds[i][0]) \n",
    "        # What happens here? If i=0 we work on the \"X\", else, if i=1, we work on the \"Y\"\n",
    "            # 1) bounds[i][0] = Lower Bound for the Variable\n",
    "            # 2) Mapping of the \"integer\" value in the \"bounds\" interval\n",
    "        \n",
    "        decoded.append(value)\n",
    "    \n",
    "    return decoded"
   ]
  },
  {
   "cell_type": "markdown",
   "metadata": {},
   "source": [
    "## Selection"
   ]
  },
  {
   "cell_type": "code",
   "execution_count": 5,
   "metadata": {},
   "outputs": [],
   "source": [
    "def selection(population, scores, k=3):\n",
    "    selected_idx = np.random.randint(len(population))\n",
    "\n",
    "    for idx in np.random.randint(0, len(population), k-1):\n",
    "        if scores[idx] < scores[selected_idx]:\n",
    "            selected_idx = idx\n",
    "    \n",
    "    return population[selected_idx]"
   ]
  },
  {
   "cell_type": "markdown",
   "metadata": {},
   "source": [
    "## Crossover"
   ]
  },
  {
   "cell_type": "code",
   "execution_count": 6,
   "metadata": {},
   "outputs": [],
   "source": [
    "def crossover(p1, p2, r_crossover):\n",
    "    c1 = p1.copy()\n",
    "    c2 = p2.copy()\n",
    "\n",
    "    execute_crossover = np.random.rand()\n",
    "    \n",
    "    if execute_crossover < r_crossover:\n",
    "        point = np.random.randint(1, len(p1)-2)\n",
    "\n",
    "        c1 = p1[:point] + p2[point:]\n",
    "        c2 = p2[:point] + p1[point:]\n",
    "    \n",
    "    return [c1, c2]"
   ]
  },
  {
   "cell_type": "markdown",
   "metadata": {},
   "source": [
    "## Mutazione"
   ]
  },
  {
   "cell_type": "code",
   "execution_count": 7,
   "metadata": {},
   "outputs": [],
   "source": [
    "def mutation(sample, r_mutation):\n",
    "    for i in range(len(sample)):\n",
    "        execute_mutation = np.random.rand()\n",
    "\n",
    "        if execute_mutation < r_mutation:\n",
    "            sample[i] = 1 - sample[i]"
   ]
  },
  {
   "cell_type": "markdown",
   "metadata": {},
   "source": [
    "## Genetic Algorithm: Principal Function"
   ]
  },
  {
   "cell_type": "code",
   "execution_count": 8,
   "metadata": {},
   "outputs": [],
   "source": [
    "def genetic_algorithm(objective, bounds, n_bits, n_iterations, n_population, r_crossover, r_mutation):\n",
    "    # Create the Starting Population\n",
    "    population = create_population(n_bits, n_population, bounds)\n",
    "    \n",
    "    # Initialize \"Best\"\n",
    "    best = population[0]\n",
    "    best_eval = objective(decode(bounds, n_bits, best))\n",
    "\n",
    "    # Iterate over \"n_iterations\" Generations\n",
    "    iteration = 1\n",
    "    for gen in range(n_iterations):\n",
    "        decoded_samples = list()\n",
    "        for sample in population:\n",
    "            decoded_samples.append(decode(bounds, n_bits, sample))\n",
    "        \n",
    "        scores = list()\n",
    "        for sample in decoded_samples:\n",
    "            scores.append(objective(sample))\n",
    "        \n",
    "        # (Eventually) Update the Best\n",
    "        new_best_found = False\n",
    "        for i in range(n_population):\n",
    "            if scores[i] < best_eval:\n",
    "                new_best_found = True\n",
    "                best = population[i]\n",
    "                best_eval = scores[i]\n",
    "        \n",
    "        if new_best_found == True:\n",
    "            print(\"New \\'Best\\' found at Iteration %d\" % iteration)\n",
    "            print(\"New Best: \" + str(best))\n",
    "            print(\"New Best Eval: %.9f\\n\" % best_eval)\n",
    "        \n",
    "        # Create the Next Generation\n",
    "        parents = list()\n",
    "        children = list()\n",
    "\n",
    "        for sample in population:\n",
    "            parents.append(selection(population, scores))\n",
    "        \n",
    "        for i in range(0, n_population, 2):\n",
    "            p1 = parents[i]\n",
    "            p2 = parents[i+1]\n",
    "\n",
    "            for c in crossover(p1, p2, r_crossover):\n",
    "                mutation(c, r_mutation)\n",
    "                children.append(c)\n",
    "        \n",
    "        population = children\n",
    "        iteration += 1"
   ]
  },
  {
   "cell_type": "markdown",
   "metadata": {},
   "source": [
    "# CODE'S TEST SECTION"
   ]
  },
  {
   "cell_type": "code",
   "execution_count": 9,
   "metadata": {},
   "outputs": [],
   "source": [
    "# Parameters Setting\n",
    "bounds = [[-5.0, 5.0], [-5.0, 5.0]]\n",
    "n_iterations = 100\n",
    "n_bits = 16\n",
    "n_population = 100\n",
    "r_crossover = 0.9\n",
    "r_mutation = 1.0 / (float(n_bits) * len(bounds))"
   ]
  },
  {
   "cell_type": "code",
   "execution_count": 10,
   "metadata": {},
   "outputs": [
    {
     "name": "stdout",
     "output_type": "stream",
     "text": [
      "New 'Best' found at Iteration 1\n",
      "New Best: [0, 1, 1, 1, 1, 0, 1, 1, 0, 1, 1, 1, 0, 0, 1, 1, 1, 0, 0, 1, 0, 0, 1, 0, 0, 1, 1, 0, 0, 0, 0, 0]\n",
      "New Best Eval: 0.546898165\n",
      "\n",
      "New 'Best' found at Iteration 2\n",
      "New Best: [0, 1, 1, 1, 0, 1, 1, 0, 0, 0, 1, 0, 0, 0, 1, 1, 1, 0, 0, 0, 0, 0, 0, 0, 1, 0, 1, 0, 0, 1, 1, 0]\n",
      "New Best Eval: 0.149035310\n",
      "\n",
      "New 'Best' found at Iteration 3\n",
      "New Best: [0, 1, 1, 1, 1, 0, 1, 1, 1, 0, 0, 0, 0, 1, 0, 0, 0, 1, 1, 1, 1, 1, 1, 0, 0, 1, 1, 1, 0, 1, 0, 1]\n",
      "New Best Eval: 0.034282716\n",
      "\n",
      "New 'Best' found at Iteration 4\n",
      "New Best: [0, 1, 1, 1, 1, 1, 1, 1, 1, 0, 0, 0, 0, 1, 0, 0, 0, 1, 1, 1, 1, 1, 1, 0, 0, 1, 1, 1, 0, 0, 0, 1]\n",
      "New Best Eval: 0.004052646\n",
      "\n",
      "New 'Best' found at Iteration 5\n",
      "New Best: [0, 1, 1, 1, 1, 1, 1, 1, 1, 0, 0, 0, 0, 1, 0, 0, 0, 1, 1, 1, 1, 1, 1, 0, 0, 1, 1, 1, 1, 1, 0, 1]\n",
      "New Best Eval: 0.003833313\n",
      "\n",
      "New 'Best' found at Iteration 6\n",
      "New Best: [0, 1, 1, 1, 1, 1, 1, 1, 1, 0, 0, 0, 0, 1, 0, 0, 0, 1, 1, 1, 1, 1, 1, 1, 0, 0, 1, 0, 0, 1, 1, 0]\n",
      "New Best Eval: 0.001456598\n",
      "\n",
      "New 'Best' found at Iteration 9\n",
      "New Best: [0, 1, 1, 1, 1, 1, 1, 1, 0, 1, 1, 1, 0, 0, 1, 0, 1, 0, 0, 0, 0, 0, 0, 0, 0, 0, 0, 0, 1, 0, 1, 1]\n",
      "New Best Eval: 0.000469273\n",
      "\n",
      "New 'Best' found at Iteration 10\n",
      "New Best: [0, 1, 1, 1, 1, 1, 1, 1, 1, 1, 1, 1, 0, 0, 1, 0, 1, 0, 0, 0, 0, 0, 0, 0, 0, 0, 0, 0, 1, 1, 0, 1]\n",
      "New Best Eval: 0.000008487\n",
      "\n",
      "New 'Best' found at Iteration 19\n",
      "New Best: [0, 1, 1, 1, 1, 1, 1, 1, 1, 1, 1, 1, 0, 0, 1, 1, 1, 0, 0, 0, 0, 0, 0, 0, 0, 0, 0, 0, 0, 0, 0, 0]\n",
      "New Best Eval: 0.000003644\n",
      "\n",
      "New 'Best' found at Iteration 20\n",
      "New Best: [0, 1, 1, 1, 1, 1, 1, 1, 1, 1, 1, 1, 1, 0, 0, 0, 1, 0, 0, 0, 0, 0, 0, 0, 0, 0, 0, 0, 0, 0, 0, 0]\n",
      "New Best Eval: 0.000001316\n",
      "\n",
      "New 'Best' found at Iteration 24\n",
      "New Best: [0, 1, 1, 1, 1, 1, 1, 1, 1, 1, 1, 1, 1, 0, 0, 1, 1, 0, 0, 0, 0, 0, 0, 0, 0, 0, 0, 0, 0, 0, 1, 1]\n",
      "New Best Eval: 0.000001269\n",
      "\n",
      "New 'Best' found at Iteration 25\n",
      "New Best: [0, 1, 1, 1, 1, 1, 1, 1, 1, 1, 1, 1, 1, 1, 0, 1, 1, 0, 0, 0, 0, 0, 0, 0, 0, 0, 0, 0, 0, 0, 1, 0]\n",
      "New Best Eval: 0.000000291\n",
      "\n",
      "New 'Best' found at Iteration 36\n",
      "New Best: [0, 1, 1, 1, 1, 1, 1, 1, 1, 1, 1, 1, 1, 1, 0, 1, 1, 0, 0, 0, 0, 0, 0, 0, 0, 0, 0, 0, 0, 0, 0, 1]\n",
      "New Best Eval: 0.000000198\n",
      "\n",
      "New 'Best' found at Iteration 41\n",
      "New Best: [0, 1, 1, 1, 1, 1, 1, 1, 1, 1, 1, 1, 1, 1, 0, 1, 1, 0, 0, 0, 0, 0, 0, 0, 0, 0, 0, 0, 0, 0, 0, 0]\n",
      "New Best Eval: 0.000000151\n",
      "\n",
      "New 'Best' found at Iteration 50\n",
      "New Best: [0, 1, 1, 1, 1, 1, 1, 1, 1, 1, 1, 1, 1, 1, 1, 0, 1, 0, 0, 0, 0, 0, 0, 0, 0, 0, 0, 0, 0, 0, 0, 0]\n",
      "New Best Eval: 0.000000058\n",
      "\n",
      "New 'Best' found at Iteration 64\n",
      "New Best: [0, 1, 1, 1, 1, 1, 1, 1, 1, 1, 1, 1, 1, 1, 1, 1, 1, 0, 0, 0, 0, 0, 0, 0, 0, 0, 0, 0, 0, 0, 0, 0]\n",
      "New Best Eval: 0.000000012\n",
      "\n"
     ]
    }
   ],
   "source": [
    "genetic_algorithm(objective, bounds, n_bits, n_iterations, n_population, r_crossover, r_mutation)"
   ]
  },
  {
   "cell_type": "markdown",
   "metadata": {},
   "source": [
    "## Other Tests"
   ]
  },
  {
   "cell_type": "code",
   "execution_count": 11,
   "metadata": {},
   "outputs": [
    {
     "data": {
      "text/plain": [
       "[[1, 1, 0, 1, 1, 1, 1, 1, 0, 0, 0, 1, 1, 1, 0, 0, 1, 1, 1, 1],\n",
       " [0, 0, 0, 1, 0, 1, 0, 0, 1, 0, 1, 0, 0, 1, 0, 1, 1, 1, 1, 0],\n",
       " [1, 0, 1, 0, 1, 0, 1, 1, 0, 0, 1, 0, 1, 0, 1, 1, 0, 0, 0, 0],\n",
       " [0, 1, 0, 1, 1, 1, 1, 0, 0, 1, 0, 1, 1, 1, 0, 0, 0, 1, 1, 1],\n",
       " [0, 1, 0, 1, 1, 0, 1, 1, 1, 1, 0, 1, 0, 1, 1, 1, 0, 1, 1, 0],\n",
       " [0, 0, 0, 1, 1, 0, 1, 1, 0, 0, 1, 0, 0, 1, 1, 0, 1, 0, 1, 1],\n",
       " [1, 0, 0, 1, 0, 1, 1, 0, 0, 1, 0, 0, 0, 0, 1, 1, 0, 1, 1, 0],\n",
       " [0, 1, 1, 0, 1, 1, 1, 1, 1, 0, 1, 1, 1, 1, 0, 0, 1, 0, 1, 1],\n",
       " [0, 1, 0, 1, 0, 1, 0, 0, 1, 1, 1, 0, 0, 1, 1, 0, 1, 1, 0, 1],\n",
       " [0, 1, 1, 1, 1, 1, 0, 0, 0, 0, 1, 1, 0, 0, 0, 0, 0, 1, 1, 1],\n",
       " [0, 0, 0, 1, 1, 1, 1, 1, 0, 1, 1, 1, 1, 1, 0, 0, 1, 0, 0, 0],\n",
       " [1, 0, 1, 1, 0, 0, 0, 1, 0, 1, 0, 0, 0, 0, 1, 1, 1, 0, 1, 0],\n",
       " [0, 0, 1, 1, 0, 1, 1, 0, 0, 0, 0, 1, 1, 0, 0, 1, 1, 0, 1, 0],\n",
       " [1, 0, 1, 1, 0, 1, 1, 1, 1, 0, 0, 0, 1, 0, 1, 1, 0, 0, 0, 0],\n",
       " [0, 0, 1, 0, 0, 0, 0, 0, 0, 1, 1, 1, 0, 1, 0, 1, 0, 1, 0, 1],\n",
       " [0, 1, 1, 0, 1, 1, 1, 1, 0, 1, 1, 1, 1, 1, 0, 1, 1, 1, 1, 1]]"
      ]
     },
     "execution_count": 11,
     "metadata": {},
     "output_type": "execute_result"
    }
   ],
   "source": [
    "# Creating a Starting Population\n",
    "\n",
    "bounds = [[-5.0, 5.0], [-5.0, 5.0]]\n",
    "n_pop = 10\n",
    "n_bits = 16\n",
    "test_population = create_population(n_pop, n_bits, bounds)\n",
    "\n",
    "test_population"
   ]
  },
  {
   "cell_type": "code",
   "execution_count": 12,
   "metadata": {},
   "outputs": [
    {
     "name": "stdout",
     "output_type": "stream",
     "text": [
      "Binary Sample: [1, 1, 0, 1, 1, 1, 1, 1, 0, 0, 0, 1, 1, 1, 0, 0, 1, 1, 1, 1]\n",
      "Decoded Sample: [3.7153429465171293, -4.9977111467154955]\n"
     ]
    }
   ],
   "source": [
    "# Decoding Process\n",
    "\n",
    "print(\"Binary Sample: \" + str(test_population[0]))\n",
    "decoded_sample = decode(bounds, n_bits, test_population[0])\n",
    "print(\"Decoded Sample: \" + str(decoded_sample))"
   ]
  },
  {
   "cell_type": "code",
   "execution_count": 13,
   "metadata": {
    "scrolled": false
   },
   "outputs": [
    {
     "name": "stdout",
     "output_type": "stream",
     "text": [
      "Population with Values:\n"
     ]
    },
    {
     "data": {
      "text/plain": [
       "{'[1, 1, 0, 1, 1, 1, 1, 1, 0, 0, 0, 1, 1, 1, 0, 0, 1, 1, 1, 1]': [3.7153429465171293,\n",
       "  -4.9977111467154955],\n",
       " '[0, 0, 0, 1, 0, 1, 0, 0, 1, 0, 1, 0, 0, 1, 0, 1, 1, 1, 1, 0]': [-4.193560692759594,\n",
       "  -4.9978637369344625],\n",
       " '[1, 0, 1, 0, 1, 0, 1, 1, 0, 0, 1, 0, 1, 0, 1, 1, 0, 0, 0, 0]': [1.6863508049134044,\n",
       "  -5.0],\n",
       " '[0, 1, 0, 1, 1, 1, 1, 0, 0, 1, 0, 1, 1, 1, 0, 0, 0, 1, 1, 1]': [-1.3140306706340121,\n",
       "  -4.998931868467231],\n",
       " '[0, 1, 0, 1, 1, 0, 1, 1, 1, 1, 0, 1, 0, 1, 1, 1, 0, 1, 1, 0]': [-1.4124513618677041,\n",
       "  -4.999084458686198],\n",
       " '[0, 0, 0, 1, 1, 0, 1, 1, 0, 0, 1, 0, 0, 1, 1, 0, 1, 0, 1, 1]': [-3.939497978179599,\n",
       "  -4.998321507591363],\n",
       " '[1, 0, 0, 1, 0, 1, 1, 0, 0, 1, 0, 0, 0, 0, 1, 1, 0, 1, 1, 0]': [0.869687953002213,\n",
       "  -4.999084458686198],\n",
       " '[0, 1, 1, 0, 1, 1, 1, 1, 1, 0, 1, 1, 1, 1, 0, 0, 1, 0, 1, 1]': [-0.635309376668955,\n",
       "  -4.998321507591363],\n",
       " '[0, 1, 0, 1, 0, 1, 0, 0, 1, 1, 1, 0, 0, 1, 1, 0, 1, 1, 0, 1]': [-1.683604180972,\n",
       "  -4.9980163271534295],\n",
       " '[0, 1, 1, 1, 1, 1, 0, 0, 0, 0, 1, 1, 0, 0, 0, 0, 0, 1, 1, 1]': [-0.14885175860227395,\n",
       "  -4.998931868467231],\n",
       " '[0, 0, 0, 1, 1, 1, 1, 1, 0, 1, 1, 1, 1, 1, 0, 0, 1, 0, 0, 0]': [-3.7701228351262683,\n",
       "  -4.998779278248264],\n",
       " '[1, 0, 1, 1, 0, 0, 0, 1, 0, 1, 0, 0, 0, 0, 1, 1, 1, 0, 1, 0]': [1.9243915465018695,\n",
       "  -4.99847409781033],\n",
       " '[0, 0, 1, 1, 0, 1, 1, 0, 0, 0, 0, 1, 1, 0, 0, 1, 1, 0, 1, 0]': [-2.8867780575265125,\n",
       "  -4.99847409781033],\n",
       " '[1, 0, 1, 1, 0, 1, 1, 1, 1, 0, 0, 0, 1, 0, 1, 1, 0, 0, 0, 0]': [2.169756618600748,\n",
       "  -5.0],\n",
       " '[0, 0, 1, 0, 0, 0, 0, 0, 0, 1, 1, 1, 0, 1, 0, 1, 0, 1, 0, 1]': [-3.7321278706034944,\n",
       "  -4.999237048905165],\n",
       " '[0, 1, 1, 0, 1, 1, 1, 1, 0, 1, 1, 1, 1, 1, 0, 1, 1, 1, 1, 1]': [-0.6449225604638738,\n",
       "  -4.9977111467154955]}"
      ]
     },
     "execution_count": 13,
     "metadata": {},
     "output_type": "execute_result"
    }
   ],
   "source": [
    "# Evaluating the Population\n",
    "population_with_values = dict()\n",
    "for sample in test_population:\n",
    "    population_with_values[str(sample)] = None\n",
    "    \n",
    "for sample in test_population:\n",
    "    decoded_sample = decode(bounds, n_bits, sample)\n",
    "    sample = str(sample)\n",
    "    population_with_values[sample] = (decoded_sample)\n",
    "\n",
    "print(\"Population with Values:\")\n",
    "population_with_values"
   ]
  },
  {
   "cell_type": "code",
   "execution_count": 18,
   "metadata": {},
   "outputs": [
    {
     "data": {
      "text/plain": [
       "[[0, 1, 1, 1, 1, 1, 0, 0, 0, 0, 1, 1, 0, 0, 0, 0, 0, 1, 1, 1],\n",
       " [1, 0, 1, 0, 1, 0, 1, 1, 0, 0, 1, 0, 1, 0, 1, 1, 0, 0, 0, 0],\n",
       " [0, 1, 1, 1, 1, 1, 0, 0, 0, 0, 1, 1, 0, 0, 0, 0, 0, 1, 1, 1],\n",
       " [1, 0, 1, 0, 1, 0, 1, 1, 0, 0, 1, 0, 1, 0, 1, 1, 0, 0, 0, 0],\n",
       " [0, 1, 1, 1, 1, 1, 0, 0, 0, 0, 1, 1, 0, 0, 0, 0, 0, 1, 1, 1],\n",
       " [0, 0, 1, 1, 0, 1, 1, 0, 0, 0, 0, 1, 1, 0, 0, 1, 1, 0, 1, 0],\n",
       " [0, 1, 1, 0, 1, 1, 1, 1, 0, 1, 1, 1, 1, 1, 0, 1, 1, 1, 1, 1],\n",
       " [0, 1, 1, 1, 1, 1, 0, 0, 0, 0, 1, 1, 0, 0, 0, 0, 0, 1, 1, 1],\n",
       " [0, 1, 1, 0, 1, 1, 1, 1, 1, 0, 1, 1, 1, 1, 0, 0, 1, 0, 1, 1],\n",
       " [1, 0, 1, 0, 1, 0, 1, 1, 0, 0, 1, 0, 1, 0, 1, 1, 0, 0, 0, 0]]"
      ]
     },
     "execution_count": 18,
     "metadata": {},
     "output_type": "execute_result"
    }
   ],
   "source": [
    "# Selection Process\n",
    "scores = list()\n",
    "for sample in test_population:\n",
    "    decoded_sample = decode(bounds, n_bits, sample)\n",
    "    scores.append(objective(decoded_sample))\n",
    "\n",
    "parents = list()\n",
    "\n",
    "for i in range(n_pop):\n",
    "    parents.append(selection(test_population,scores))\n",
    "    \n",
    "parents"
   ]
  },
  {
   "cell_type": "code",
   "execution_count": 22,
   "metadata": {},
   "outputs": [
    {
     "name": "stdout",
     "output_type": "stream",
     "text": [
      "Child 1: [0, 1, 1, 1, 1, 1, 1, 1, 0, 0, 1, 0, 1, 0, 1, 1, 0, 0, 0, 0]\n",
      "Child 2: [1, 0, 1, 0, 1, 0, 0, 0, 0, 0, 1, 1, 0, 0, 0, 0, 0, 1, 1, 1]\n"
     ]
    }
   ],
   "source": [
    "# Crossover Process\n",
    "p1 = parents[0]\n",
    "p2 = parents[1]\n",
    "\n",
    "c1, c2 = crossover(p1, p2, r_crossover)\n",
    "\n",
    "print(\"Child 1: \" + str(c1))\n",
    "print(\"Child 2: \" + str(c2))"
   ]
  },
  {
   "cell_type": "code",
   "execution_count": 24,
   "metadata": {},
   "outputs": [
    {
     "name": "stdout",
     "output_type": "stream",
     "text": [
      "Child Before Mutation: [0, 1, 1, 1, 1, 1, 1, 1, 0, 0, 1, 0, 1, 0, 1, 1, 0, 0, 0, 0]\n",
      "Child After Mutation: [0, 1, 1, 1, 1, 1, 0, 1, 0, 0, 1, 0, 1, 0, 1, 0, 0, 0, 0, 0]\n"
     ]
    }
   ],
   "source": [
    "# Mutation Process\n",
    "print(\"Child Before Mutation: \" + str(c1))\n",
    "mutation(c1, r_mutation)\n",
    "print(\"Child After Mutation: \" + str(c1))"
   ]
  }
 ],
 "metadata": {
  "kernelspec": {
   "display_name": "Python 3 (ipykernel)",
   "language": "python",
   "name": "python3"
  },
  "language_info": {
   "codemirror_mode": {
    "name": "ipython",
    "version": 3
   },
   "file_extension": ".py",
   "mimetype": "text/x-python",
   "name": "python",
   "nbconvert_exporter": "python",
   "pygments_lexer": "ipython3",
   "version": "3.9.12"
  }
 },
 "nbformat": 4,
 "nbformat_minor": 2
}
