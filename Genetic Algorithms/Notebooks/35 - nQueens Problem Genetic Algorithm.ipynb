{
 "cells": [
  {
   "cell_type": "code",
   "execution_count": 1,
   "id": "86470d4f",
   "metadata": {},
   "outputs": [],
   "source": [
    "import numpy as np"
   ]
  },
  {
   "cell_type": "markdown",
   "id": "699ad380",
   "metadata": {},
   "source": [
    "# Problem Description\n",
    "\n",
    "nQueens Problem: we got a Chessboard (\"N\" rows and \"N\" columns) and we want to place \"N\" Queens on it in order to have none of them putting the others in check.\n",
    "We decide to exploit a Genetic Algorithm.\n",
    "\n",
    "Each state is represented by a vector of \"N\" values: each index represents a column, each value represents a row.\n",
    "This means that if we have \"vector[2] = 5\", we have a queen on the \"(5,2)\" cell.\n",
    "\n",
    "Each state is evaluated in terms fo the number of conflicts between the queens: we want to reach \"0\" for this value."
   ]
  },
  {
   "cell_type": "markdown",
   "id": "a562706f",
   "metadata": {},
   "source": [
    "## Objective Function"
   ]
  },
  {
   "cell_type": "code",
   "execution_count": 2,
   "id": "851fe8f3",
   "metadata": {},
   "outputs": [],
   "source": [
    "# Given a populated chessboard, it counts and returns the number of threats.\n",
    "# Our goal is to minimize this value.\n",
    "def count_threats(sample):\n",
    "    tot_threats = 0\n",
    "\n",
    "    for column in range(0, len(sample)-1):\n",
    "        current_queen = [column, sample[column]]\n",
    "        # Observation: each Queen is describes as a couple of coordinates, [column, row]\n",
    "            # - queen[0] = column_index\n",
    "            # - queen[1] = row_index\n",
    "\n",
    "        for previous_column in range(column+1, len(sample)):\n",
    "            previous_queen = [previous_column, sample[previous_column]]\n",
    "\n",
    "            slope = (current_queen[1] - previous_queen[1]) / (current_queen[0] - previous_queen[0])\n",
    "\n",
    "            # Orizzontal Threats\n",
    "            if slope == 0:\n",
    "                # Observation: \"slope == 0\" only if the two Queens observed share the same \"row_index\".\n",
    "                tot_threats += 1\n",
    "            \n",
    "            # Diagonal Threats\n",
    "            elif slope == 1 or slope == -1:\n",
    "                tot_threats += 1\n",
    "    \n",
    "    return tot_threats"
   ]
  },
  {
   "cell_type": "markdown",
   "id": "3343725d",
   "metadata": {},
   "source": [
    "## Crossover Function"
   ]
  },
  {
   "cell_type": "code",
   "execution_count": 3,
   "id": "73517351",
   "metadata": {},
   "outputs": [],
   "source": [
    "# Executes the 1-Point-Crossover.\n",
    "def crossover(population, crossover_count):\n",
    "    length = len(population[0])\n",
    "\n",
    "    for i in range(0, crossover_count):\n",
    "        # We select two random samples of the population: parents\n",
    "        parent1 = population[np.random.randint(0, len(population))]\n",
    "        parent2 = population[np.random.randint(0, len(population))]\n",
    "\n",
    "        crossover_point = np.random.randint(1, length-1)\n",
    "\n",
    "        child1 = list()\n",
    "        child1 = parent1[:crossover_point] + parent2[crossover_point:]\n",
    "        child2 = list()\n",
    "        child2 = parent2[:crossover_point] + parent1[crossover_point:]\n",
    "    \n",
    "        population.append(child1)\n",
    "        population.append(child2)\n",
    "        # Warning! The children don't replace the parents: they become part of the population.\n",
    "    \n",
    "    return population"
   ]
  },
  {
   "cell_type": "markdown",
   "id": "3ec7e8eb",
   "metadata": {},
   "source": [
    "## Mutation Function"
   ]
  },
  {
   "cell_type": "code",
   "execution_count": 4,
   "id": "9e0c8245",
   "metadata": {},
   "outputs": [],
   "source": [
    "# Executes the Mutation.\n",
    "def mutation(population, mutation_count):\n",
    "    length = len(population[0])\n",
    "\n",
    "    for i in range(0, mutation_count):\n",
    "        parent = population[np.random.randint(0, len(population))]\n",
    "\n",
    "        mutation_point = np.random.randint(0, length)\n",
    "        mutation_gene = np.random.randint(0, length)\n",
    "\n",
    "        mutated_parent = parent.copy()\n",
    "        mutated_parent[mutation_point] = mutation_gene\n",
    "\n",
    "        population.append(mutated_parent)\n",
    "        # Warning! The \"mutated_parent\" doesn't replace the parents: it becomes part of the population.\n",
    "    \n",
    "    return population"
   ]
  },
  {
   "cell_type": "markdown",
   "id": "80994111",
   "metadata": {},
   "source": [
    "# Genetic Algorithm"
   ]
  },
  {
   "cell_type": "markdown",
   "id": "8870bfb7",
   "metadata": {},
   "source": [
    "## Support Functions"
   ]
  },
  {
   "cell_type": "code",
   "execution_count": 5,
   "id": "d6c2dedc",
   "metadata": {},
   "outputs": [],
   "source": [
    "# Creates the initial population. In few words, it creates \"n_population\" differents chessboards.\n",
    "def create_population(n_population, n_queens):\n",
    "    population = list()\n",
    "\n",
    "    for i in range(n_population):\n",
    "        sample = np.random.randint(low = 0, high = n_queens, size = n_queens).tolist()\n",
    "        population.append(sample)\n",
    "        # Warning! In this version we admit to different Queens to have the same row index.\n",
    "        # This fact has obivous implications on the threat's number.\n",
    "\n",
    "    return population"
   ]
  },
  {
   "cell_type": "code",
   "execution_count": 6,
   "id": "4bcdc923",
   "metadata": {},
   "outputs": [],
   "source": [
    "# Sorts the population. \n",
    "# The first sample of the ordered population is related to the minimum value of the objective function \"count_threats\".\n",
    "def sort_population(population):\n",
    "    population.sort(key = count_threats)\n",
    "    return population"
   ]
  },
  {
   "cell_type": "code",
   "execution_count": 7,
   "id": "c4f94107",
   "metadata": {},
   "outputs": [],
   "source": [
    "# Prints the Chessboard\n",
    "def print_board(sample, n_queens):\n",
    "    board = list()\n",
    "    for r in range(0, n_queens):\n",
    "        row = list()\n",
    "        for c in range(0, n_queens):\n",
    "            if r == sample[c]:\n",
    "                row.append('Q')\n",
    "            else:\n",
    "                row.append('-')\n",
    "        board.append(row)\n",
    "    \n",
    "    print(np.matrix(board))"
   ]
  },
  {
   "cell_type": "markdown",
   "id": "c4224a48",
   "metadata": {},
   "source": [
    "## Principal Function"
   ]
  },
  {
   "cell_type": "code",
   "execution_count": 8,
   "id": "96adcb5a",
   "metadata": {},
   "outputs": [],
   "source": [
    "def genetic_algorithm(count_threats, n_population, n_queens, n_iterations, crossover_count, mutation_count):\n",
    "    print(\"*** *********************************** ***\")\n",
    "    print(\"*** Genetic Algorithm x nQueens Problem ***\")\n",
    "    print(\"*** *********************************** ***\\n\")\n",
    "    # Getting the Initial Population\n",
    "    population = create_population(n_population, n_queens)\n",
    "    population = sort_population(population)\n",
    "\n",
    "    # Initializing \"Best\"\n",
    "    best = population[0]\n",
    "    best_eval = count_threats(best)\n",
    "\n",
    "    print(\"Starting State:\")\n",
    "    print_board(best, n_queens)\n",
    "    print(\"n° Threats = %d\\n\" % best_eval)\n",
    "\n",
    "    # Iterations: the Algorithm stops if it founds a \"global best\" or if it completes \"n_iterations\" cycles.\n",
    "    for iteration in range(0, n_iterations):\n",
    "        # Observation: at this point, \"len(population) == n_population\"\n",
    "\n",
    "        population = crossover(population, crossover_count)     # Now: \"len(population) == n_population + 2*crossover_count\"\n",
    "        population = mutation(population, mutation_count)       # Now: \"len(population) == n_population + 2*crossover_count + mutation_count\"\n",
    "        \n",
    "        # The new population gets sorted again...\n",
    "        population = sort_population(population)\n",
    "        # ...and gets \"cut\": the best samples are the first ones.\n",
    "        population = population[:n_population]\n",
    "\n",
    "        top_sample = population[0]\n",
    "        top_sample_eval = count_threats(top_sample)\n",
    "\n",
    "        if top_sample_eval < best_eval:\n",
    "            print(\"Improvement Found at Iteration: \" + str(iteration+1))\n",
    "            print(\"n° Threats: \" + str(best_eval) + \" -> \" + str(top_sample_eval) + \"\\n\")\n",
    "            \n",
    "            best = top_sample\n",
    "            best_eval = top_sample_eval\n",
    "\n",
    "        if best_eval == 0:\n",
    "            break\n",
    "\n",
    "    print(\"*** SEARCH IS OVER! ***\")\n",
    "    print(\"Iteration: \" + str(iteration+1))\n",
    "    print(\"Final Best State:\")\n",
    "    print_board(best, n_queens)\n",
    "    print(\"n° Threats = %d\" % best_eval)"
   ]
  },
  {
   "cell_type": "markdown",
   "id": "a9c29e39",
   "metadata": {},
   "source": [
    "# CODE'S TEST SECTION"
   ]
  },
  {
   "cell_type": "code",
   "execution_count": 30,
   "id": "2069682a",
   "metadata": {},
   "outputs": [],
   "source": [
    "# Parameters Settings\n",
    "n_population = 10\n",
    "n_queens = 8\n",
    "n_iterations = 25000\n",
    "crossover_count = 5\n",
    "mutation_count = 5"
   ]
  },
  {
   "cell_type": "code",
   "execution_count": 32,
   "id": "ae895975",
   "metadata": {
    "scrolled": true
   },
   "outputs": [
    {
     "name": "stdout",
     "output_type": "stream",
     "text": [
      "*** *********************************** ***\n",
      "*** Genetic Algorithm x nQueens Problem ***\n",
      "*** *********************************** ***\n",
      "\n",
      "Starting State:\n",
      "[['-' '-' '-' '-' '-' '-' '-' '-']\n",
      " ['-' '-' '-' '-' '-' 'Q' 'Q' '-']\n",
      " ['Q' '-' 'Q' '-' '-' '-' '-' '-']\n",
      " ['-' 'Q' '-' '-' '-' '-' '-' '-']\n",
      " ['-' '-' '-' '-' 'Q' '-' '-' '-']\n",
      " ['-' '-' '-' '-' '-' '-' '-' 'Q']\n",
      " ['-' '-' '-' '-' '-' '-' '-' '-']\n",
      " ['-' '-' '-' 'Q' '-' '-' '-' '-']]\n",
      "n° Threats = 5\n",
      "\n",
      "Improvement Found at Iteration: 1\n",
      "n° Threats: 5 -> 4\n",
      "\n",
      "Improvement Found at Iteration: 6\n",
      "n° Threats: 4 -> 3\n",
      "\n",
      "Improvement Found at Iteration: 7\n",
      "n° Threats: 3 -> 2\n",
      "\n",
      "Improvement Found at Iteration: 15\n",
      "n° Threats: 2 -> 1\n",
      "\n",
      "Improvement Found at Iteration: 12634\n",
      "n° Threats: 1 -> 0\n",
      "\n",
      "*** SEARCH IS OVER! ***\n",
      "Iteration: 12634\n",
      "Final Best State:\n",
      "[['-' '-' 'Q' '-' '-' '-' '-' '-']\n",
      " ['-' '-' '-' '-' '-' 'Q' '-' '-']\n",
      " ['-' 'Q' '-' '-' '-' '-' '-' '-']\n",
      " ['-' '-' '-' '-' '-' '-' 'Q' '-']\n",
      " ['-' '-' '-' '-' 'Q' '-' '-' '-']\n",
      " ['Q' '-' '-' '-' '-' '-' '-' '-']\n",
      " ['-' '-' '-' '-' '-' '-' '-' 'Q']\n",
      " ['-' '-' '-' 'Q' '-' '-' '-' '-']]\n",
      "n° Threats = 0\n"
     ]
    }
   ],
   "source": [
    "genetic_algorithm(count_threats, n_population, n_queens, n_iterations, crossover_count, mutation_count)"
   ]
  },
  {
   "cell_type": "markdown",
   "id": "aac3af12",
   "metadata": {},
   "source": [
    "## Other Tests"
   ]
  },
  {
   "cell_type": "code",
   "execution_count": 33,
   "id": "3fbd5406",
   "metadata": {},
   "outputs": [
    {
     "data": {
      "text/plain": [
       "[[5, 4, 2, 6, 4, 1, 1, 4],\n",
       " [4, 3, 0, 5, 3, 1, 2, 2],\n",
       " [6, 3, 5, 2, 4, 2, 2, 3],\n",
       " [2, 0, 0, 3, 4, 3, 7, 0],\n",
       " [1, 0, 6, 7, 6, 7, 7, 4],\n",
       " [4, 5, 2, 1, 1, 3, 2, 4],\n",
       " [2, 6, 7, 6, 3, 0, 4, 1],\n",
       " [3, 3, 3, 6, 6, 1, 0, 7],\n",
       " [6, 4, 1, 7, 0, 1, 0, 4],\n",
       " [1, 0, 5, 3, 2, 3, 3, 4]]"
      ]
     },
     "execution_count": 33,
     "metadata": {},
     "output_type": "execute_result"
    }
   ],
   "source": [
    "# Population Example\n",
    "test_population = create_population(n_population, n_queens)\n",
    "test_population"
   ]
  },
  {
   "cell_type": "code",
   "execution_count": 34,
   "id": "19f13518",
   "metadata": {},
   "outputs": [
    {
     "name": "stdout",
     "output_type": "stream",
     "text": [
      "[['-' 'Q' '-' '-' '-' '-' '-' '-']\n",
      " ['Q' '-' '-' '-' '-' '-' '-' '-']\n",
      " ['-' '-' '-' '-' '-' '-' '-' '-']\n",
      " ['-' '-' '-' '-' '-' '-' '-' '-']\n",
      " ['-' '-' '-' '-' '-' '-' '-' 'Q']\n",
      " ['-' '-' '-' '-' '-' '-' '-' '-']\n",
      " ['-' '-' 'Q' '-' 'Q' '-' '-' '-']\n",
      " ['-' '-' '-' 'Q' '-' 'Q' 'Q' '-']]\n",
      "n° Threats = 9\n"
     ]
    }
   ],
   "source": [
    "# Evaluating a Sample\n",
    "sample = test_population[np.random.randint(0, n_population)]\n",
    "print_board(sample, n_queens)\n",
    "\n",
    "print(\"n° Threats = %d\" % count_threats(sample))"
   ]
  },
  {
   "cell_type": "code",
   "execution_count": 35,
   "id": "277427d5",
   "metadata": {
    "scrolled": false
   },
   "outputs": [
    {
     "name": "stdout",
     "output_type": "stream",
     "text": [
      "First Sample: [3, 3, 3, 6, 6, 1, 0, 7]\n",
      "Second Sample: [6, 4, 1, 7, 0, 1, 0, 4]\n",
      "First Sample from Crossover: [3, 3, 3, 7, 0, 1, 0, 4]\n",
      "Second Sample from Crossover: [6, 4, 1, 6, 6, 1, 0, 7]\n"
     ]
    }
   ],
   "source": [
    "# Crossover Test\n",
    "sample1 = test_population[np.random.randint(0, n_population)]\n",
    "sample2 = test_population[np.random.randint(0, n_population)]\n",
    "\n",
    "new_population = [sample1, sample2]\n",
    "\n",
    "crossover(population=new_population, crossover_count=1)\n",
    "\n",
    "print(\"First Sample: \" + str(new_population[0]))\n",
    "print(\"Second Sample: \" + str(new_population[1]))\n",
    "print(\"First Sample from Crossover: \" + str(new_population[2]))\n",
    "print(\"Second Sample from Crossover: \" + str(new_population[3]))"
   ]
  },
  {
   "cell_type": "code",
   "execution_count": 36,
   "id": "63cd5170",
   "metadata": {},
   "outputs": [
    {
     "name": "stdout",
     "output_type": "stream",
     "text": [
      "First Sample: [3, 3, 3, 6, 6, 1, 0, 7]\n",
      "Mutated Sample: [3, 3, 1, 6, 6, 1, 0, 7]\n"
     ]
    }
   ],
   "source": [
    "# Mutation Test\n",
    "sample_to_mut = test_population[np.random.randint(0, n_population)]\n",
    "new_population = [sample_to_mut]\n",
    "\n",
    "mutation(population=new_population, mutation_count=1)\n",
    "print(\"First Sample: \" + str(new_population[0]))\n",
    "print(\"Mutated Sample: \" + str(new_population[1]))"
   ]
  }
 ],
 "metadata": {
  "kernelspec": {
   "display_name": "Python 3 (ipykernel)",
   "language": "python",
   "name": "python3"
  },
  "language_info": {
   "codemirror_mode": {
    "name": "ipython",
    "version": 3
   },
   "file_extension": ".py",
   "mimetype": "text/x-python",
   "name": "python",
   "nbconvert_exporter": "python",
   "pygments_lexer": "ipython3",
   "version": "3.9.12"
  }
 },
 "nbformat": 4,
 "nbformat_minor": 5
}
