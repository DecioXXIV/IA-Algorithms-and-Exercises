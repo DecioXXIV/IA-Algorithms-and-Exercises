{
 "cells": [
  {
   "cell_type": "code",
   "execution_count": 1,
   "id": "e749bfa0",
   "metadata": {},
   "outputs": [],
   "source": [
    "import numpy as np\n",
    "import random\n",
    "import math"
   ]
  },
  {
   "cell_type": "markdown",
   "id": "3f5756c6",
   "metadata": {},
   "source": [
    "# Problem Description\n",
    "\n",
    "Traveling Salesman Problem: we got \"n\" cities and a Traveling Salesman, who has to visit each city only once and go back to the starting city.\n",
    "Every move between two cities implies a cost, and we want this cost to be the lowest possible.\n",
    "\n",
    "Each state is represented by a sequence of indexes (each index is related to a city), representing the cycle travelled by the salesman.\n",
    "\n",
    "Each state has its own neighborhood and each neighbor is obtained by \"swapping\" two cities into the sequence.\n",
    "Each state is then evaluated by a function that calculates the total cost \"payed\" by the Traveling Salesman: obviously, the goal is to minimize this cost."
   ]
  },
  {
   "cell_type": "markdown",
   "id": "05ffdce7",
   "metadata": {},
   "source": [
    "## Selection"
   ]
  },
  {
   "cell_type": "code",
   "execution_count": 2,
   "id": "a254c996",
   "metadata": {},
   "outputs": [],
   "source": [
    "# Executes the \"Tournament Selection\" on 3 randomely-selected samples of the current population.\n",
    "# The \"winnner\" is the sample with best fitness value.\n",
    "def selection(population, scores, k=3):\n",
    "    n_population = len(population)\n",
    "    selected = None\n",
    "\n",
    "    # Tournament Selection\n",
    "    first_idx = np.random.randint(0, n_population)\n",
    "        \n",
    "    second_idx = np.random.randint(0, n_population)\n",
    "    while second_idx == first_idx:\n",
    "        second_idx = np.random.randint(0, n_population)\n",
    "\n",
    "    third_idx = np.random.randint(0, n_population)\n",
    "    while (third_idx == first_idx) or (third_idx == second_idx):\n",
    "        third_idx = np.random.randint(0, n_population)\n",
    "\n",
    "    selected_scores = np.array([scores[first_idx], scores[second_idx], scores[third_idx]])\n",
    "    top_score = selected_scores.max()\n",
    "    parent_idx = scores.index(top_score)\n",
    "\n",
    "    selected = population[parent_idx]\n",
    "    \n",
    "    return selected"
   ]
  },
  {
   "cell_type": "markdown",
   "id": "520e0231",
   "metadata": {},
   "source": [
    "## Crossover"
   ]
  },
  {
   "cell_type": "code",
   "execution_count": 3,
   "id": "422cfdfb",
   "metadata": {},
   "outputs": [],
   "source": [
    "# Executes the \"Ordered Crossover\".\n",
    "# This is composed of two operations: 2-Point-Crossover + \"Child Filling\"\n",
    "def crossover(sample1, sample2, crossover_rate):\n",
    "    execute_crossover = np.random.rand()\n",
    "\n",
    "    if execute_crossover > crossover_rate:\n",
    "        return [sample1, sample2]\n",
    "\n",
    "    else:\n",
    "        n_cities = len(sample1)\n",
    "\n",
    "        child1 = [None for n in range(0, n_cities)]\n",
    "        child2 = child1.copy()\n",
    "        \n",
    "        # 2-Point Crossover on the Children\n",
    "        start = np.random.randint(low=0, high=int(n_cities/2))\n",
    "        end = np.random.randint(low=int(n_cities/2), high=n_cities)\n",
    "\n",
    "        for n in range(start, end+1):\n",
    "            child1[n] = sample2[n]\n",
    "            child2[n] = sample1[n]\n",
    "        \n",
    "        # Filling \"child1\"\n",
    "        none_elements = n_cities - (end - start + 1)\n",
    "        it_1 = (end+1) % n_cities\n",
    "        n = it_1\n",
    "        while none_elements > 0:\n",
    "            if child1[n] == None:\n",
    "                while sample1[it_1] in child1:\n",
    "                    it_1 = (it_1 + 1) % (n_cities)\n",
    "                child1[n] = sample1[it_1]\n",
    "                \n",
    "                n += 1 \n",
    "                n = n % n_cities\n",
    "\n",
    "                none_elements -= 1\n",
    "            \n",
    "        # Filling \"child2\"\n",
    "        none_elements = n_cities - (end - start + 1)\n",
    "        it_2 = (end+1) % n_cities\n",
    "        n = it_2\n",
    "        while none_elements > 0:\n",
    "            if child2[n] == None:\n",
    "                while sample2[it_2] in child2:\n",
    "                    it_2 = (it_2 + 1) % (n_cities)\n",
    "                child2[n] = sample2[it_2]\n",
    "                \n",
    "                n += 1 \n",
    "                n = n % n_cities\n",
    "                none_elements -= 1\n",
    "\n",
    "        # How does this function works? Let's explain with an example:\n",
    "            # sample1 = [1 2 3 4 5 6]\n",
    "            # sample2 = [4 2 6 3 1 5]\n",
    "        \n",
    "            # Step1 = 2-Point-Crossover: we sort the \"start\" and the \"end\" point.\n",
    "                # Suppose: len = len(sample), half = int(len(sample)/2)\n",
    "                # \"start\" belongs to the [0, half) interval -> suppose: start = 2\n",
    "                # \"end\" belongs to the [half, len) interval -> suppose: end = 4\n",
    "\n",
    "                # Crossing-Over:\n",
    "                # child1 = [None None 6 3 1 None]\n",
    "                # child2 = [None None 3 4 5 None]\n",
    "            \n",
    "            #Step2 = \"Child Filling\": we have to fill the child with the parent's value that are missing in this moment.\n",
    "                # child1 = [4 5 6 3 1 2]\n",
    "                # child2 = [6 1 3 4 5 2]\n",
    "\n",
    "        return [child1, child2]"
   ]
  },
  {
   "cell_type": "markdown",
   "id": "06f0d700",
   "metadata": {},
   "source": [
    "## Mutation"
   ]
  },
  {
   "cell_type": "code",
   "execution_count": 4,
   "id": "07333d02",
   "metadata": {},
   "outputs": [],
   "source": [
    "# Executed the \"Swap Mutation\".\n",
    "def mutation(sample, mutation_rate):\n",
    "    execute_mutation = np.random.rand()\n",
    "\n",
    "    if execute_mutation > mutation_rate:\n",
    "        return sample\n",
    "    \n",
    "    else:\n",
    "        n_cities = len(sample)\n",
    "        mutated_sample = sample.copy()\n",
    "\n",
    "        first_idx = np.random.randint(0, n_cities)\n",
    "        second_idx = np.random.randint(0, n_cities)\n",
    "        \n",
    "        temp = mutated_sample[first_idx]\n",
    "        mutated_sample[first_idx] = mutated_sample[second_idx]\n",
    "        mutated_sample[second_idx] = temp\n",
    "    \n",
    "        return mutated_sample"
   ]
  },
  {
   "cell_type": "markdown",
   "id": "06eaaf60",
   "metadata": {},
   "source": [
    "# Genetic Algorithm"
   ]
  },
  {
   "cell_type": "markdown",
   "id": "9a2d2556",
   "metadata": {},
   "source": [
    "## Support Functions"
   ]
  },
  {
   "cell_type": "code",
   "execution_count": 5,
   "id": "dfddb6f9",
   "metadata": {},
   "outputs": [],
   "source": [
    "# Creates the Search State.\n",
    "# Each City is represented by a pair of coordinates (x,y).\n",
    "def create_search_space(n_cities):\n",
    "    city_coordinates = list()\n",
    "    \n",
    "    for i in range(n_cities):\n",
    "        city = np.random.randint(low=1, high=150, size=2).tolist()\n",
    "        # Each city is represented by a 2-values-vector: in few words, the coordinates \"x\" and \"y\".\n",
    "        city_coordinates.append(city)\n",
    "    \n",
    "    return city_coordinates"
   ]
  },
  {
   "cell_type": "code",
   "execution_count": 6,
   "id": "10201efc",
   "metadata": {},
   "outputs": [],
   "source": [
    "# Creates a Random Starting Population from the Search State.\n",
    "# Each sample is a vector of cities: each vectory represents the cycle travelled by the Salesman.\n",
    "def create_population(n_population, city_coordinates):\n",
    "    n_cities = len(city_coordinates)\n",
    "    population = list()\n",
    "\n",
    "    for n in range(n_population):\n",
    "        indexes = [i for i in range(0, n_cities)]\n",
    "        random.shuffle(indexes)\n",
    "        sample = list()\n",
    "\n",
    "        for idx in indexes:\n",
    "            sample.append(city_coordinates[idx])\n",
    "        \n",
    "        population.append(sample)\n",
    "\n",
    "    return population"
   ]
  },
  {
   "cell_type": "code",
   "execution_count": 7,
   "id": "757ac995",
   "metadata": {},
   "outputs": [],
   "source": [
    "# Evaluates a sample.\n",
    "def eval_function(sample):\n",
    "    n_cities = len(sample)\n",
    "    total_distance = 0.0\n",
    "    \n",
    "    for c in range(0, n_cities-1):\n",
    "        src = sample[c]\n",
    "        dst = sample[c+1]\n",
    "        total_distance += math.sqrt(((src[0] - dst[0])**2) + ((src[1] - dst[1])**2))\n",
    "\n",
    "    src = sample[n_cities-1]\n",
    "    dst = sample[0]\n",
    "\n",
    "    total_distance += math.sqrt((src[0] - dst[0])**2 + (src[1] - dst[1])**2)\n",
    "\n",
    "    return total_distance"
   ]
  },
  {
   "cell_type": "markdown",
   "id": "1ea1f9a2",
   "metadata": {},
   "source": [
    "## Principal Function"
   ]
  },
  {
   "cell_type": "code",
   "execution_count": 8,
   "id": "82ba76bf",
   "metadata": {},
   "outputs": [],
   "source": [
    "def genetic_algorithm(n_iterations, n_population, n_cities, crossover_rate, mutation_rate):\n",
    "    print(\"*** ********************************************** ***\")\n",
    "    print(\"*** Genetic Algorithm x Traveling Salesman Problem ***\")\n",
    "    print(\"*** ********************************************** ***\\n\")\n",
    "    # Search Space Inizialization\n",
    "    city_coordinates = create_search_space(n_cities)\n",
    "\n",
    "    # Starting Population Inizialization\n",
    "    population = create_population(n_population, city_coordinates)\n",
    "\n",
    "    scores = list()\n",
    "    for sample in population:\n",
    "        scores.append(eval_function(sample))\n",
    "\n",
    "    # Best Inizialization\n",
    "    best_eval = np.array(scores).min()\n",
    "    best = population[scores.index(best_eval)]\n",
    "\n",
    "    print(\"Starting State: \" + str(best))\n",
    "    print(\"Cost = %.3f\\n\" % best_eval)\n",
    "\n",
    "    print(\"*** SEARCH IS STARTING... ***\")\n",
    "    for iteration in range(0, n_iterations):\n",
    "        # Creating the New Generation\n",
    "        children = list()\n",
    "\n",
    "        # Selection Phase: Tournament Selection\n",
    "        parents = list()\n",
    "        for i in range(0, n_population):\n",
    "            parents.append(selection(population,scores))\n",
    "\n",
    "        # Crossover & Mutation Phase\n",
    "        for i in range(0, n_population, 2):\n",
    "            # Crossover Phase: Tournament Crossover\n",
    "            parent1 = parents[i]\n",
    "            parent2 = parents[i+1] \n",
    "            child1, child2 = crossover(parent1, parent2, crossover_rate)\n",
    "\n",
    "            # Mutation Phase: Swap Mutation\n",
    "            child1 = mutation(child1, mutation_rate)\n",
    "            child2 = mutation(child2, mutation_rate)\n",
    "\n",
    "            children.append(child1)\n",
    "            children.append(child2)\n",
    "\n",
    "        children_scores = list()\n",
    "        for sample in children:\n",
    "            children_scores.append(eval_function(sample))\n",
    "\n",
    "        best_child_eval = np.array(children_scores).min()\n",
    "\n",
    "        # (Eventually) update the Best\n",
    "        if best_child_eval < best_eval:\n",
    "            print(\"Found new Best at Iteration \" + str(iteration+1) + \"\\n\")\n",
    "            best_eval = best_child_eval\n",
    "            best_child = children[children_scores.index(best_child_eval)]\n",
    "            best = best_child\n",
    "\n",
    "        \n",
    "        population = children\n",
    "    \n",
    "    print(\"*** SEARCH IS OVER! ***\")\n",
    "    print(\"Final Best: \" + str(best))\n",
    "    print(\"Final Cost = %.3f\" % best_eval)"
   ]
  },
  {
   "cell_type": "markdown",
   "id": "2ee72a27",
   "metadata": {},
   "source": [
    "# CODE'S TEST SECTION"
   ]
  },
  {
   "cell_type": "code",
   "execution_count": 9,
   "id": "feb88b93",
   "metadata": {},
   "outputs": [],
   "source": [
    "# Parameters Settings\n",
    "n_iterations = 10000\n",
    "n_population = 10\n",
    "n_cities = 10\n",
    "crossover_rate = 0.9\n",
    "mutation_rate = 0.25"
   ]
  },
  {
   "cell_type": "code",
   "execution_count": 11,
   "id": "912f08ba",
   "metadata": {},
   "outputs": [
    {
     "name": "stdout",
     "output_type": "stream",
     "text": [
      "*** ********************************************** ***\n",
      "*** Genetic Algorithm x Traveling Salesman Problem ***\n",
      "*** ********************************************** ***\n",
      "\n",
      "Starting State: [[42, 81], [20, 117], [1, 145], [93, 131], [117, 97], [138, 84], [51, 149], [53, 122], [33, 72], [109, 74]]\n",
      "Cost = 568.319\n",
      "\n",
      "*** SEARCH IS STARTING... ***\n",
      "Found new Best at Iteration 3\n",
      "\n",
      "Found new Best at Iteration 4\n",
      "\n",
      "Found new Best at Iteration 18\n",
      "\n",
      "Found new Best at Iteration 106\n",
      "\n",
      "Found new Best at Iteration 113\n",
      "\n",
      "Found new Best at Iteration 240\n",
      "\n",
      "Found new Best at Iteration 295\n",
      "\n",
      "Found new Best at Iteration 759\n",
      "\n",
      "Found new Best at Iteration 760\n",
      "\n",
      "Found new Best at Iteration 3804\n",
      "\n",
      "Found new Best at Iteration 8364\n",
      "\n",
      "*** SEARCH IS OVER! ***\n",
      "Final Best: [[93, 131], [117, 97], [138, 84], [109, 74], [42, 81], [33, 72], [20, 117], [1, 145], [51, 149], [53, 122]]\n",
      "Final Cost = 375.996\n"
     ]
    }
   ],
   "source": [
    "genetic_algorithm(n_iterations, n_population, n_cities, crossover_rate, mutation_rate)"
   ]
  },
  {
   "cell_type": "markdown",
   "id": "31627782",
   "metadata": {},
   "source": [
    "## Other Tests"
   ]
  },
  {
   "cell_type": "code",
   "execution_count": 13,
   "id": "78e3ce9a",
   "metadata": {},
   "outputs": [
    {
     "name": "stdout",
     "output_type": "stream",
     "text": [
      "Parent 1: [1, 4, 2, 0, 5, 3]\n",
      "Parent 2: [5, 0, 4, 1, 3, 2]\n",
      "\n",
      "Child 1: [5, 0, 4, 1, 3, 2]\n",
      "Child 2: [3, 4, 2, 0, 5, 1]\n"
     ]
    }
   ],
   "source": [
    "# Crossover Test\n",
    "\n",
    "n_cities = 6\n",
    "sample1 = [i for i in range(0, n_cities)]\n",
    "sample2 = [i for i in range(0, n_cities)]\n",
    "random.shuffle(sample1)\n",
    "random.shuffle(sample2)\n",
    "\n",
    "child1, child2 = crossover(sample1, sample2, crossover_rate)\n",
    "\n",
    "print(\"Parent 1: \" + str(sample1))\n",
    "print(\"Parent 2: \" + str(sample2))\n",
    "print()\n",
    "print(\"Child 1: \" + str(child1))\n",
    "print(\"Child 2: \" + str(child2))"
   ]
  },
  {
   "cell_type": "code",
   "execution_count": 14,
   "id": "16be4957",
   "metadata": {},
   "outputs": [
    {
     "name": "stdout",
     "output_type": "stream",
     "text": [
      "Before Mutation: [0, 1, 2, 3, 4, 5]\n",
      "Mutated Sample: [3, 1, 2, 0, 4, 5]\n"
     ]
    }
   ],
   "source": [
    "# Mutation Test\n",
    "sample = [i for i in range(0, n_cities)]\n",
    "random.shuffle(sample1)\n",
    "\n",
    "mutated_sample = mutation(sample, mutation_rate)\n",
    "\n",
    "print(\"Before Mutation: \" + str(sample))\n",
    "print(\"Mutated Sample: \" + str(mutated_sample))"
   ]
  }
 ],
 "metadata": {
  "kernelspec": {
   "display_name": "Python 3 (ipykernel)",
   "language": "python",
   "name": "python3"
  },
  "language_info": {
   "codemirror_mode": {
    "name": "ipython",
    "version": 3
   },
   "file_extension": ".py",
   "mimetype": "text/x-python",
   "name": "python",
   "nbconvert_exporter": "python",
   "pygments_lexer": "ipython3",
   "version": "3.9.12"
  }
 },
 "nbformat": 4,
 "nbformat_minor": 5
}
