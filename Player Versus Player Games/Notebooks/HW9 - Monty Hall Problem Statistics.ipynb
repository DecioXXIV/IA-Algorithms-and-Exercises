{
 "cells": [
  {
   "cell_type": "code",
   "execution_count": 1,
   "id": "3caf0c68",
   "metadata": {},
   "outputs": [],
   "source": [
    "import random"
   ]
  },
  {
   "cell_type": "markdown",
   "id": "573d772b",
   "metadata": {},
   "source": [
    "# Problem Description\n",
    "\n",
    "\"Monty Hall\" Problem: we have got 3 closed doors (Door 1, Door 2 and Door 3). Only one door hides a Supercar, the others hide a goat. The Algorithm, who knows where is hidden the car, asks us to choose a Door to open.\n",
    "\n",
    "\n",
    "After receiving our input, he decides to open one of the two remaining doors. This door surely hides a goat.\n",
    "\n",
    "\n",
    "After this event, the Algorithm asks us whether we want to change our choice: we can accept or deny.\n",
    "\n",
    "Finally, the chosen door gets opened and out prize gets revealed...hopefully the Supercar!\n"
   ]
  },
  {
   "cell_type": "code",
   "execution_count": 2,
   "id": "523cfa8d",
   "metadata": {},
   "outputs": [],
   "source": [
    "class Door:\n",
    "    def __init__(self, prize):\n",
    "        self.prize = prize"
   ]
  },
  {
   "cell_type": "code",
   "execution_count": 3,
   "id": "e6d3ff01",
   "metadata": {},
   "outputs": [],
   "source": [
    "def play_game_always_change(doors, MAX_ITERATIONS):\n",
    "    victories = list()\n",
    "\n",
    "    for i in range(0, MAX_ITERATIONS):\n",
    "        random.shuffle(doors)\n",
    "        \n",
    "        doors_indexes = [0,1,2]\n",
    "        chosen_door_idx = random.randint(0,2)\n",
    "        final_door_idx = None\n",
    "\n",
    "        doors_indexes.remove(chosen_door_idx)\n",
    "\n",
    "        nc_door1 = doors[doors_indexes[0]]\n",
    "        nc_door2 = doors[doors_indexes[1]]\n",
    "\n",
    "        if nc_door1.prize == nc_door2.prize:                                # The \"not-chosen\" doors both hide a Goat\n",
    "            random_value = random.random()\n",
    "            if random_value > 0.5:\n",
    "                final_door_idx = doors.index(nc_door2)                      # \"nc_door1\" opened, the Player moves from \"chosen_door\" to \"nc_door2\"\n",
    "            else:\n",
    "                final_door_idx = doors.index(nc_door1)                      # \"nc_door2\" opened, the Player moves from \"chosen_door\" to \"nc_door1\"\n",
    "            \n",
    "        if nc_door1.prize == 'Supercar' and nc_door2.prize == 'Goat':      \n",
    "            final_door_idx = doors.index(nc_door1)                          # \"nc_door2\" hides a Goat and gets opened, the Player moves from \"chosen_door\" to \"nc_door1\"\n",
    "        \n",
    "        if nc_door1.prize == 'Goat' and nc_door2.prize == 'Supercar':\n",
    "            final_door_idx = doors.index(nc_door2)                          # \"nc_door1\" hides a Goat and gets opened, the Player moves from \"chosen_door\" to \"nc_door2\"\n",
    "        \n",
    "\n",
    "        final_door = doors[final_door_idx]\n",
    "        if final_door.prize == 'Supercar':\n",
    "            victories.append(i)\n",
    "\n",
    "    ratio = len(victories) / MAX_ITERATIONS\n",
    "    perc_ratio = ratio*100\n",
    "\n",
    "    print(\"\\'Turnin' Tables\\' Policy results:\")\n",
    "    print(\"Total Victories (on 10000) = %d\" % len(victories))\n",
    "    print(\"Percentual Ratio of Victory = %.2f\\n\" % perc_ratio)"
   ]
  },
  {
   "cell_type": "code",
   "execution_count": 4,
   "id": "b2eff925",
   "metadata": {},
   "outputs": [],
   "source": [
    "def play_game_never_change(doors, MAX_ITERATIONS):\n",
    "    victories = list()\n",
    "\n",
    "    for i in range(0, MAX_ITERATIONS):\n",
    "        random.shuffle(doors)\n",
    "        chosen_door_idx = random.randint(0,2)\n",
    "\n",
    "        chosen_door = doors[chosen_door_idx]\n",
    "        if chosen_door.prize == \"Supercar\":\n",
    "            victories.append(i)\n",
    "    \n",
    "    ratio = len(victories) / MAX_ITERATIONS\n",
    "    perc_ratio = ratio*100\n",
    "\n",
    "    print(\"\\'Once Chosen, Never Change!\\' Policy results:\")\n",
    "    print(\"Total Victories (on 10000) = %d\" % len(victories))\n",
    "    print(\"Percentual Ratio of Victory = %.2f\" % perc_ratio)"
   ]
  },
  {
   "cell_type": "markdown",
   "id": "b24cb933",
   "metadata": {},
   "source": [
    "# CODE'S TEST SECTION"
   ]
  },
  {
   "cell_type": "code",
   "execution_count": 5,
   "id": "a7fda3c1",
   "metadata": {},
   "outputs": [],
   "source": [
    "# Problem's Setup\n",
    "MAX_ITERATIONS = 10000\n",
    "\n",
    "doors = list()\n",
    "doors.append(Door(\"Supercar\"))\n",
    "doors.append(Door(\"Goat\"))\n",
    "doors.append(Door(\"Goat\"))"
   ]
  },
  {
   "cell_type": "code",
   "execution_count": 6,
   "id": "ed05ec53",
   "metadata": {},
   "outputs": [
    {
     "name": "stdout",
     "output_type": "stream",
     "text": [
      "'Once Chosen, Never Change!' Policy results:\n",
      "Total Victories (on 10000) = 3270\n",
      "Percentual Ratio of Victory = 32.70\n"
     ]
    }
   ],
   "source": [
    "# Test Execution -> \"Never Change\"\n",
    "play_game_never_change(doors, MAX_ITERATIONS)"
   ]
  },
  {
   "cell_type": "code",
   "execution_count": 7,
   "id": "75dea892",
   "metadata": {},
   "outputs": [
    {
     "name": "stdout",
     "output_type": "stream",
     "text": [
      "'Turnin' Tables' Policy results:\n",
      "Total Victories (on 10000) = 6675\n",
      "Percentual Ratio of Victory = 66.75\n",
      "\n"
     ]
    }
   ],
   "source": [
    "# Test Execution -> \"Turnin' Tables\"\n",
    "play_game_always_change(doors, MAX_ITERATIONS)"
   ]
  }
 ],
 "metadata": {
  "kernelspec": {
   "display_name": "Python 3 (ipykernel)",
   "language": "python",
   "name": "python3"
  },
  "language_info": {
   "codemirror_mode": {
    "name": "ipython",
    "version": 3
   },
   "file_extension": ".py",
   "mimetype": "text/x-python",
   "name": "python",
   "nbconvert_exporter": "python",
   "pygments_lexer": "ipython3",
   "version": "3.9.12"
  }
 },
 "nbformat": 4,
 "nbformat_minor": 5
}
